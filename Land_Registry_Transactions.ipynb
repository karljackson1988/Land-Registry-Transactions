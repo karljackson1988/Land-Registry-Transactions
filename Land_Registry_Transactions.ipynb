{
  "cells": [
    {
      "cell_type": "markdown",
      "metadata": {
        "id": "view-in-github",
        "colab_type": "text"
      },
      "source": [
        "<a href=\"https://colab.research.google.com/github/karljackson1988/Land-Registry-Transactions/blob/main/Land_Registry_Transactions.ipynb\" target=\"_parent\"><img src=\"https://colab.research.google.com/assets/colab-badge.svg\" alt=\"Open In Colab\"/></a>"
      ]
    },
    {
      "cell_type": "markdown",
      "metadata": {
        "id": "aRu1h6pdeZNo"
      },
      "source": [
        "#**Land Registry Transactions:** Spatial & Temporal Analysis Using K-Means Clustering\n",
        "\n",
        "##**Project Background**\n",
        "\n",
        "The objective of this project is to explore and uncover patterns in UK property transactions over time and across regions. By analysing a large dataset of Land Registry transactions, the project aims to reveal insights into price dynamics, geographical disparities, and the extent to which different areas of the country behave as distinct “micro-markets.” Understanding these patterns can give people a clearer picture of how the property market is shifting. Whether it’s first-time buyers trying to get on the ladder, homeowners deciding when to move, or small developers and investors who need to balance risk and return, having access to this kind of analysis helps them spot opportunities, avoid overpriced areas, and make decisions grounded in actual market behaviour rather than headlines.\n",
        "\n",
        "From a data-science perspective, the project combines data engineering (ETL using Python and pandas) with exploratory data analysis (EDA) and an unsupervised learning step. The unsupervised piece uses K-Means clustering to group postcode areas that share similar price and activity characteristics. The result is an interpretable segmentation of the UK property landscape that complements traditional metrics like average price or sales volume.\n",
        "\n",
        "\n",
        "\n",
        "\n",
        "---\n",
        "\n",
        "\n",
        "\n",
        "##**Data Description**\n",
        "The dataset is sourced from the UK Land Registry Price Paid records and spans 2008–2025, comprising tens of millions of rows. Each record represents a single property transaction and includes, among other fields:\n",
        "•\tPrice paid (GBP)\n",
        "•\tDate of transfer\n",
        "•\tProperty type (Detached, Semi-Detached, Terraced, Flat/Maisonette, Other)\n",
        "•\tTenure (Freehold/Leasehold)\n",
        "•\tAddress components (PAON/SAON, Street, Locality, Town/City, District, County, Postcode)\n",
        "•\tRecord status / category flags\n",
        "Data was ingested directly from the Land Registry’s public data service (hosted on GOV.UK/AWS). Files were loaded with pandas.read_csv and appended into a single DataFrame before being written to Parquet, which gives a much smaller on-disk footprint and dramatically faster reloads for iterative analysis.\n",
        "\n",
        "\n",
        "\n",
        "---\n",
        "\n",
        "\n",
        "#**Key Questions Explored**\n",
        "\n",
        "•\tHow have average property prices changed over time?\n",
        "We summarise nominal prices monthly/annually and look for structural shifts (e.g., post-2016, pandemic period, recent rate rises).\n",
        "\n",
        "•\tWhich property types have appreciated the most?\n",
        "Splitting the time series by Detached/Semi/ Terrace/Flat reveals different cycles and sensitivities.\n",
        "\n",
        "•\tAre there postcode regions with consistently high or low prices?\n",
        "Aggregations at outward postcode (e.g., SW, L, B) and sector level show broad regional bands.\n",
        "\n",
        "•\tCan regional clusters be identified using machine learning?\n",
        "K-Means segments areas with similar price levels and sales activity to surface “market tiers.”\n",
        "\n",
        "Tools & Technologies\n",
        "•\tPython: ETL, analysis, visualization\n",
        "•\tPandas: Data processing\n",
        "•\tSeaborn/Matplotlib: Visual exploration\n",
        "•\tScikit-learn: K-Means clustering\n",
        "•\tParquet: Optimized data storage format\n"
      ]
    },
    {
      "cell_type": "markdown",
      "metadata": {
        "id": "JgcZQruvdB8f"
      },
      "source": []
    },
    {
      "cell_type": "markdown",
      "metadata": {
        "id": "6CeAIA9ubyr5"
      },
      "source": [
        "import relevant libraries.\n",
        "\n",
        "Define relevant date periods.\n",
        "\n",
        "Declare location to gather data from.\n",
        "\n",
        "Create an empty dataframe."
      ]
    },
    {
      "cell_type": "code",
      "execution_count": null,
      "metadata": {
        "id": "RHJZ72LMeVkE"
      },
      "outputs": [],
      "source": [
        "import pandas as pd\n",
        "\n",
        "start = 2015\n",
        "end = 2026\n",
        "\n",
        "years = range(start, end)\n",
        "base_url = \"http://prod.publicdata.landregistry.gov.uk.s3-website-eu-west-1.amazonaws.com/pp-{}.txt\"\n",
        "\n",
        "# Empty list to collect each year's DataFrame\n",
        "all_data = []"
      ]
    },
    {
      "cell_type": "markdown",
      "metadata": {
        "id": "L6XazPVubzZ2"
      },
      "source": [
        "run loop to extract data for defined date periods."
      ]
    },
    {
      "cell_type": "code",
      "execution_count": null,
      "metadata": {
        "colab": {
          "base_uri": "https://localhost:8080/"
        },
        "id": "S1RNZBTveW-r",
        "outputId": "171844e5-4a5a-460c-d5a8-469a51158202"
      },
      "outputs": [
        {
          "output_type": "stream",
          "name": "stdout",
          "text": [
            "Loaded data for 2015\n",
            "Loaded data for 2016\n",
            "Loaded data for 2017\n",
            "Loaded data for 2018\n",
            "Loaded data for 2019\n",
            "Loaded data for 2020\n",
            "Loaded data for 2021\n",
            "Loaded data for 2022\n",
            "Loaded data for 2023\n",
            "Loaded data for 2024\n",
            "Loaded data for 2025\n"
          ]
        }
      ],
      "source": [
        "for year in years:\n",
        "    url = base_url.format(year)\n",
        "    try:\n",
        "        df = pd.read_csv(url, sep=',', header=None, dtype=str)\n",
        "        df['Year'] = year\n",
        "        all_data.append(df)\n",
        "        print(f\"Loaded data for {year}\")\n",
        "    except Exception as e:\n",
        "        print(f\"Failed to load data for {year}: {e}\")\n",
        "\n"
      ]
    },
    {
      "cell_type": "markdown",
      "metadata": {
        "id": "NdtBHiVBcx92"
      },
      "source": [
        "Append / Concatenate all yealry data files into a single dataframe."
      ]
    },
    {
      "cell_type": "code",
      "execution_count": null,
      "metadata": {
        "id": "RrvSgqqzcw4F"
      },
      "outputs": [],
      "source": [
        "# Combine all into one DataFrame\n",
        "full_data = pd.concat(all_data, ignore_index=True)"
      ]
    },
    {
      "cell_type": "code",
      "execution_count": null,
      "metadata": {
        "id": "XR63tNjCkdJI"
      },
      "outputs": [],
      "source": [
        "#full_data"
      ]
    },
    {
      "cell_type": "markdown",
      "metadata": {
        "id": "jPhEN_i1b0Pq"
      },
      "source": [
        "Specify the columnular naming convention."
      ]
    },
    {
      "cell_type": "code",
      "execution_count": null,
      "metadata": {
        "id": "h4unAXVBeXBW"
      },
      "outputs": [],
      "source": [
        "columns = [\n",
        "    \"Transaction unique identifier\", \"Price\", \"Date of Transfer\", \"Postcode\",\n",
        "    \"Property Type\", \"Old/New\", \"Duration\", \"PAON\", \"SAON\",\n",
        "    \"Street\", \"Locality\", \"Town/City\", \"District\", \"County\",\n",
        "    \"PPD Category Type\", \"Record Status\"\n",
        "]"
      ]
    },
    {
      "cell_type": "code",
      "execution_count": null,
      "metadata": {
        "id": "LAGLvwi6q2wC"
      },
      "outputs": [],
      "source": []
    },
    {
      "cell_type": "markdown",
      "metadata": {
        "id": "5fmr8TSddrIl"
      },
      "source": [
        "Add the data year as a column data point."
      ]
    },
    {
      "cell_type": "code",
      "execution_count": null,
      "metadata": {
        "id": "4kjhTKVlb1Hc"
      },
      "outputs": [],
      "source": [
        "full_data.columns = columns + [\"Year\"]"
      ]
    },
    {
      "cell_type": "code",
      "execution_count": null,
      "metadata": {
        "id": "RbETSxrrrN4Q"
      },
      "outputs": [],
      "source": []
    },
    {
      "cell_type": "markdown",
      "metadata": {
        "id": "enw7ocYfs1vm"
      },
      "source": [
        "Check for missing values by column"
      ]
    },
    {
      "cell_type": "code",
      "execution_count": null,
      "metadata": {
        "colab": {
          "base_uri": "https://localhost:8080/"
        },
        "id": "TBIRTjtCsv7d",
        "outputId": "31872737-b5dd-4927-b579-d10a3ec357b2"
      },
      "outputs": [
        {
          "output_type": "stream",
          "name": "stdout",
          "text": [
            "Missing Data Summary:\n",
            "                                Missing Values  Percent Missing\n",
            "SAON                                  8869079        86.380307\n",
            "Locality                              6394248        62.276715\n",
            "Street                                 183008         1.782405\n",
            "Postcode                                35339         0.344184\n",
            "Transaction unique identifier               0         0.000000\n",
            "Property Type                               0         0.000000\n",
            "Old/New                                     0         0.000000\n",
            "Date of Transfer                            0         0.000000\n",
            "Price                                       0         0.000000\n",
            "PAON                                        0         0.000000\n",
            "Duration                                    0         0.000000\n",
            "Town/City                                   0         0.000000\n",
            "District                                    0         0.000000\n",
            "County                                      0         0.000000\n",
            "PPD Category Type                           0         0.000000\n",
            "Record Status                               0         0.000000\n",
            "Year                                        0         0.000000\n"
          ]
        }
      ],
      "source": [
        "\n",
        "missing_values = full_data.isnull().sum()\n",
        "missing_percent = (missing_values / len(full_data)) * 100\n",
        "missing_summary = pd.DataFrame({\n",
        "    \"Missing Values\": missing_values,\n",
        "    \"Percent Missing\": missing_percent\n",
        "})\n",
        "print(\"Missing Data Summary:\\n\", missing_summary.sort_values(by=\"Percent Missing\", ascending=False))\n"
      ]
    },
    {
      "cell_type": "markdown",
      "metadata": {
        "id": "2fcykhbluw64"
      },
      "source": [
        "SAON (Secondary Addressable Object Name): This field typically includes details like apartment numbers or suites. With over 86% missing, it is likely only applicable to a subset of urban addresses. Its removal was deemed appropriate to avoid skewing downstream analysis.\n",
        "\n",
        "\n",
        "\n",
        "---\n",
        "\n",
        "\n",
        "\n",
        "Locality: Although this field can provide additional context to the address, over 60% is missing and it often overlaps with more complete fields like Town/City, District, and Postcode. Therefore, it was excluded to streamline the dataset.\n",
        "\n",
        "Street, PAON, Postcode: These fields had very low levels of missingness and were retained for their importance in geospatial or property-specific analyses."
      ]
    },
    {
      "cell_type": "code",
      "execution_count": null,
      "metadata": {
        "id": "NXlvVYKRsv_X"
      },
      "outputs": [],
      "source": [
        "# Drop high-missing-value columns\n",
        "full_data = full_data.drop(columns=[\"SAON\", \"Locality\"])"
      ]
    },
    {
      "cell_type": "markdown",
      "metadata": {
        "id": "UyV3dk2V1Hi-"
      },
      "source": [
        "Extract the first [n] characters for the postcode area based on example:\n",
        "\n",
        "Formatting\n",
        "Overview\n",
        "The postcodes are alphanumeric, and are (possibly uniquely) variable in length: ranging from six to eight characters (including a space). Each postcode is divided into two parts separated by a single space: the outward code and the inward code respectively. The outward code includes the postcode area and the postcode district, respectively. The inward code includes the postcode sector and the postcode unit respectively. Examples of postcodes are \"SW1W 0NY\", \"PO16 7GZ\", \"GU16 7HF\", and \"L1 8JQ\".\n",
        "\n",
        "POSTCODE:        SW1W 0NY\n",
        "\n",
        "Outward code:    SW\n",
        "\n",
        "Inward code:     1W\n",
        "\n",
        "Area\tDistrict:  0\n",
        "\n",
        "Sector\tUnit:    NY\n"
      ]
    },
    {
      "cell_type": "code",
      "execution_count": null,
      "metadata": {
        "id": "o74685npb1PV"
      },
      "outputs": [],
      "source": [
        "full_data[\"Postcode_Area\"] = full_data[\"Postcode\"].str.extract(r'^(\\S+)')"
      ]
    },
    {
      "cell_type": "markdown",
      "metadata": {
        "id": "wkHbc4ACAH-I"
      },
      "source": [
        "Ensure the \"Price\" is stored as an integer"
      ]
    },
    {
      "cell_type": "code",
      "execution_count": null,
      "metadata": {
        "id": "wPEhJ4gSb1U3"
      },
      "outputs": [],
      "source": [
        "full_data[\"Price\"] = pd.to_numeric(full_data[\"Price\"], errors=\"coerce\")"
      ]
    },
    {
      "cell_type": "code",
      "execution_count": null,
      "metadata": {
        "id": "hPpMj9n0razq"
      },
      "outputs": [],
      "source": [
        "# Keep only residential, valid, private sales\n",
        "full_data = full_data[\n",
        "    (full_data['PPD Category Type'] == 'A') &\n",
        "    (full_data['Price'] < 10000000) &\n",
        "    (full_data['Price'] > 1_000)\n",
        "]\n"
      ]
    },
    {
      "cell_type": "code",
      "execution_count": null,
      "metadata": {
        "colab": {
          "base_uri": "https://localhost:8080/"
        },
        "id": "l2dt9oiCsv4S",
        "outputId": "64d257c3-730e-4d4a-ad27-336efea4a3e4"
      },
      "outputs": [
        {
          "output_type": "execute_result",
          "data": {
            "text/plain": [
              "Index(['Transaction unique identifier', 'Price', 'Date of Transfer',\n",
              "       'Postcode', 'Property Type', 'Old/New', 'Duration', 'PAON', 'Street',\n",
              "       'Town/City', 'District', 'County', 'PPD Category Type', 'Record Status',\n",
              "       'Year', 'Postcode_Area'],\n",
              "      dtype='object')"
            ]
          },
          "metadata": {},
          "execution_count": 12
        }
      ],
      "source": [
        "full_data.columns"
      ]
    },
    {
      "cell_type": "code",
      "execution_count": null,
      "metadata": {
        "colab": {
          "base_uri": "https://localhost:8080/"
        },
        "id": "WtY3W5Y4swDT",
        "outputId": "717d1f10-8b8c-467c-bd33-865781f5cd5b"
      },
      "outputs": [
        {
          "output_type": "stream",
          "name": "stdout",
          "text": [
            "Distinct Record Status: 1\n",
            "Distinct Town/City: 1152\n",
            "Distinct Districts: 361\n",
            "Distinct Counties: 117\n"
          ]
        }
      ],
      "source": [
        "# Distinct counts\n",
        "print(\"Distinct Record Status:\", full_data[\"Record Status\"].nunique())\n",
        "print(\"Distinct Town/City:\", full_data[\"Town/City\"].nunique())\n",
        "print(\"Distinct Districts:\", full_data[\"District\"].nunique())\n",
        "print(\"Distinct Counties:\", full_data[\"County\"].nunique())"
      ]
    },
    {
      "cell_type": "code",
      "execution_count": null,
      "metadata": {
        "id": "zyMWP1dQ9ihC"
      },
      "outputs": [],
      "source": []
    },
    {
      "cell_type": "code",
      "execution_count": null,
      "metadata": {
        "id": "t8FM-voN9ilM"
      },
      "outputs": [],
      "source": []
    },
    {
      "cell_type": "code",
      "execution_count": null,
      "metadata": {
        "id": "IcmFBUuDb1ZR"
      },
      "outputs": [],
      "source": [
        "#full_data.to_parquet(\"land_registry_data_2005_2025.parquet\", index=False)"
      ]
    },
    {
      "cell_type": "code",
      "execution_count": null,
      "metadata": {
        "colab": {
          "base_uri": "https://localhost:8080/"
        },
        "id": "M0btcirMjzB7",
        "outputId": "d72c3b9f-6b4a-457a-d3b0-c87908f11abc"
      },
      "outputs": [
        {
          "output_type": "stream",
          "name": "stdout",
          "text": [
            "Randomly selected postcode: RH12 4SA\n"
          ]
        }
      ],
      "source": [
        "import random\n",
        "\n",
        "# Drop NaNs first to avoid errors\n",
        "valid_postcodes = full_data[\"Postcode\"].dropna().unique()\n",
        "\n",
        "# Randomly pick one postcode\n",
        "random_postcode = random.choice(valid_postcodes)\n",
        "\n",
        "# Filter the dataset for that postcode\n",
        "postcode_area = full_data[full_data[\"Postcode\"] == random_postcode]\n",
        "\n",
        "print(f\"Randomly selected postcode: {random_postcode}\")\n",
        "\n"
      ]
    },
    {
      "cell_type": "code",
      "execution_count": null,
      "metadata": {
        "colab": {
          "base_uri": "https://localhost:8080/",
          "height": 115
        },
        "id": "9IoXVdETb1cy",
        "outputId": "917a5fb5-9df1-448f-f1a2-5686946b5a2f"
      },
      "outputs": [
        {
          "output_type": "execute_result",
          "data": {
            "text/plain": [
              "                  Transaction unique identifier   Price  Date of Transfer  \\\n",
              "6259001  {EA3278AA-BEEB-2676-E053-6B04A8C015F8}  557500  2021-06-29 00:00   \n",
              "\n",
              "         Postcode Property Type Old/New Duration      PAON        Street  \\\n",
              "6259001  RH12 4SA             D       N        F  FROGMORE  CRAWLEY ROAD   \n",
              "\n",
              "        Town/City District       County PPD Category Type Record Status  Year  \\\n",
              "6259001   HORSHAM  HORSHAM  WEST SUSSEX                 A             A  2021   \n",
              "\n",
              "        Postcode_Area  \n",
              "6259001          RH12  "
            ],
            "text/html": [
              "\n",
              "  <div id=\"df-d926899e-10e7-4c91-b6b5-9d4c43ab4a33\" class=\"colab-df-container\">\n",
              "    <div>\n",
              "<style scoped>\n",
              "    .dataframe tbody tr th:only-of-type {\n",
              "        vertical-align: middle;\n",
              "    }\n",
              "\n",
              "    .dataframe tbody tr th {\n",
              "        vertical-align: top;\n",
              "    }\n",
              "\n",
              "    .dataframe thead th {\n",
              "        text-align: right;\n",
              "    }\n",
              "</style>\n",
              "<table border=\"1\" class=\"dataframe\">\n",
              "  <thead>\n",
              "    <tr style=\"text-align: right;\">\n",
              "      <th></th>\n",
              "      <th>Transaction unique identifier</th>\n",
              "      <th>Price</th>\n",
              "      <th>Date of Transfer</th>\n",
              "      <th>Postcode</th>\n",
              "      <th>Property Type</th>\n",
              "      <th>Old/New</th>\n",
              "      <th>Duration</th>\n",
              "      <th>PAON</th>\n",
              "      <th>Street</th>\n",
              "      <th>Town/City</th>\n",
              "      <th>District</th>\n",
              "      <th>County</th>\n",
              "      <th>PPD Category Type</th>\n",
              "      <th>Record Status</th>\n",
              "      <th>Year</th>\n",
              "      <th>Postcode_Area</th>\n",
              "    </tr>\n",
              "  </thead>\n",
              "  <tbody>\n",
              "    <tr>\n",
              "      <th>6259001</th>\n",
              "      <td>{EA3278AA-BEEB-2676-E053-6B04A8C015F8}</td>\n",
              "      <td>557500</td>\n",
              "      <td>2021-06-29 00:00</td>\n",
              "      <td>RH12 4SA</td>\n",
              "      <td>D</td>\n",
              "      <td>N</td>\n",
              "      <td>F</td>\n",
              "      <td>FROGMORE</td>\n",
              "      <td>CRAWLEY ROAD</td>\n",
              "      <td>HORSHAM</td>\n",
              "      <td>HORSHAM</td>\n",
              "      <td>WEST SUSSEX</td>\n",
              "      <td>A</td>\n",
              "      <td>A</td>\n",
              "      <td>2021</td>\n",
              "      <td>RH12</td>\n",
              "    </tr>\n",
              "  </tbody>\n",
              "</table>\n",
              "</div>\n",
              "    <div class=\"colab-df-buttons\">\n",
              "\n",
              "  <div class=\"colab-df-container\">\n",
              "    <button class=\"colab-df-convert\" onclick=\"convertToInteractive('df-d926899e-10e7-4c91-b6b5-9d4c43ab4a33')\"\n",
              "            title=\"Convert this dataframe to an interactive table.\"\n",
              "            style=\"display:none;\">\n",
              "\n",
              "  <svg xmlns=\"http://www.w3.org/2000/svg\" height=\"24px\" viewBox=\"0 -960 960 960\">\n",
              "    <path d=\"M120-120v-720h720v720H120Zm60-500h600v-160H180v160Zm220 220h160v-160H400v160Zm0 220h160v-160H400v160ZM180-400h160v-160H180v160Zm440 0h160v-160H620v160ZM180-180h160v-160H180v160Zm440 0h160v-160H620v160Z\"/>\n",
              "  </svg>\n",
              "    </button>\n",
              "\n",
              "  <style>\n",
              "    .colab-df-container {\n",
              "      display:flex;\n",
              "      gap: 12px;\n",
              "    }\n",
              "\n",
              "    .colab-df-convert {\n",
              "      background-color: #E8F0FE;\n",
              "      border: none;\n",
              "      border-radius: 50%;\n",
              "      cursor: pointer;\n",
              "      display: none;\n",
              "      fill: #1967D2;\n",
              "      height: 32px;\n",
              "      padding: 0 0 0 0;\n",
              "      width: 32px;\n",
              "    }\n",
              "\n",
              "    .colab-df-convert:hover {\n",
              "      background-color: #E2EBFA;\n",
              "      box-shadow: 0px 1px 2px rgba(60, 64, 67, 0.3), 0px 1px 3px 1px rgba(60, 64, 67, 0.15);\n",
              "      fill: #174EA6;\n",
              "    }\n",
              "\n",
              "    .colab-df-buttons div {\n",
              "      margin-bottom: 4px;\n",
              "    }\n",
              "\n",
              "    [theme=dark] .colab-df-convert {\n",
              "      background-color: #3B4455;\n",
              "      fill: #D2E3FC;\n",
              "    }\n",
              "\n",
              "    [theme=dark] .colab-df-convert:hover {\n",
              "      background-color: #434B5C;\n",
              "      box-shadow: 0px 1px 3px 1px rgba(0, 0, 0, 0.15);\n",
              "      filter: drop-shadow(0px 1px 2px rgba(0, 0, 0, 0.3));\n",
              "      fill: #FFFFFF;\n",
              "    }\n",
              "  </style>\n",
              "\n",
              "    <script>\n",
              "      const buttonEl =\n",
              "        document.querySelector('#df-d926899e-10e7-4c91-b6b5-9d4c43ab4a33 button.colab-df-convert');\n",
              "      buttonEl.style.display =\n",
              "        google.colab.kernel.accessAllowed ? 'block' : 'none';\n",
              "\n",
              "      async function convertToInteractive(key) {\n",
              "        const element = document.querySelector('#df-d926899e-10e7-4c91-b6b5-9d4c43ab4a33');\n",
              "        const dataTable =\n",
              "          await google.colab.kernel.invokeFunction('convertToInteractive',\n",
              "                                                    [key], {});\n",
              "        if (!dataTable) return;\n",
              "\n",
              "        const docLinkHtml = 'Like what you see? Visit the ' +\n",
              "          '<a target=\"_blank\" href=https://colab.research.google.com/notebooks/data_table.ipynb>data table notebook</a>'\n",
              "          + ' to learn more about interactive tables.';\n",
              "        element.innerHTML = '';\n",
              "        dataTable['output_type'] = 'display_data';\n",
              "        await google.colab.output.renderOutput(dataTable, element);\n",
              "        const docLink = document.createElement('div');\n",
              "        docLink.innerHTML = docLinkHtml;\n",
              "        element.appendChild(docLink);\n",
              "      }\n",
              "    </script>\n",
              "  </div>\n",
              "\n",
              "\n",
              "  <div id=\"id_271dcbeb-7cfa-444e-9c4a-07234d7f2a72\">\n",
              "    <style>\n",
              "      .colab-df-generate {\n",
              "        background-color: #E8F0FE;\n",
              "        border: none;\n",
              "        border-radius: 50%;\n",
              "        cursor: pointer;\n",
              "        display: none;\n",
              "        fill: #1967D2;\n",
              "        height: 32px;\n",
              "        padding: 0 0 0 0;\n",
              "        width: 32px;\n",
              "      }\n",
              "\n",
              "      .colab-df-generate:hover {\n",
              "        background-color: #E2EBFA;\n",
              "        box-shadow: 0px 1px 2px rgba(60, 64, 67, 0.3), 0px 1px 3px 1px rgba(60, 64, 67, 0.15);\n",
              "        fill: #174EA6;\n",
              "      }\n",
              "\n",
              "      [theme=dark] .colab-df-generate {\n",
              "        background-color: #3B4455;\n",
              "        fill: #D2E3FC;\n",
              "      }\n",
              "\n",
              "      [theme=dark] .colab-df-generate:hover {\n",
              "        background-color: #434B5C;\n",
              "        box-shadow: 0px 1px 3px 1px rgba(0, 0, 0, 0.15);\n",
              "        filter: drop-shadow(0px 1px 2px rgba(0, 0, 0, 0.3));\n",
              "        fill: #FFFFFF;\n",
              "      }\n",
              "    </style>\n",
              "    <button class=\"colab-df-generate\" onclick=\"generateWithVariable('postcode_area')\"\n",
              "            title=\"Generate code using this dataframe.\"\n",
              "            style=\"display:none;\">\n",
              "\n",
              "  <svg xmlns=\"http://www.w3.org/2000/svg\" height=\"24px\"viewBox=\"0 0 24 24\"\n",
              "       width=\"24px\">\n",
              "    <path d=\"M7,19H8.4L18.45,9,17,7.55,7,17.6ZM5,21V16.75L18.45,3.32a2,2,0,0,1,2.83,0l1.4,1.43a1.91,1.91,0,0,1,.58,1.4,1.91,1.91,0,0,1-.58,1.4L9.25,21ZM18.45,9,17,7.55Zm-12,3A5.31,5.31,0,0,0,4.9,8.1,5.31,5.31,0,0,0,1,6.5,5.31,5.31,0,0,0,4.9,4.9,5.31,5.31,0,0,0,6.5,1,5.31,5.31,0,0,0,8.1,4.9,5.31,5.31,0,0,0,12,6.5,5.46,5.46,0,0,0,6.5,12Z\"/>\n",
              "  </svg>\n",
              "    </button>\n",
              "    <script>\n",
              "      (() => {\n",
              "      const buttonEl =\n",
              "        document.querySelector('#id_271dcbeb-7cfa-444e-9c4a-07234d7f2a72 button.colab-df-generate');\n",
              "      buttonEl.style.display =\n",
              "        google.colab.kernel.accessAllowed ? 'block' : 'none';\n",
              "\n",
              "      buttonEl.onclick = () => {\n",
              "        google.colab.notebook.generateWithVariable('postcode_area');\n",
              "      }\n",
              "      })();\n",
              "    </script>\n",
              "  </div>\n",
              "\n",
              "    </div>\n",
              "  </div>\n"
            ],
            "application/vnd.google.colaboratory.intrinsic+json": {
              "type": "dataframe",
              "variable_name": "postcode_area",
              "repr_error": "0"
            }
          },
          "metadata": {},
          "execution_count": 16
        }
      ],
      "source": [
        "postcode_area"
      ]
    },
    {
      "cell_type": "code",
      "execution_count": null,
      "metadata": {
        "id": "hCtWjl--_2AJ"
      },
      "outputs": [],
      "source": []
    },
    {
      "cell_type": "code",
      "execution_count": null,
      "metadata": {
        "colab": {
          "base_uri": "https://localhost:8080/"
        },
        "id": "0xx4i-Yx_4a_",
        "outputId": "abba4c7a-fe09-4edb-bf48-1003a6073d60"
      },
      "outputs": [
        {
          "output_type": "execute_result",
          "data": {
            "text/plain": [
              "Index(['Transaction unique identifier', 'Price', 'Date of Transfer',\n",
              "       'Postcode', 'Property Type', 'Old/New', 'Duration', 'PAON', 'Street',\n",
              "       'Town/City', 'District', 'County', 'PPD Category Type', 'Record Status',\n",
              "       'Year', 'Postcode_Area'],\n",
              "      dtype='object')"
            ]
          },
          "metadata": {},
          "execution_count": 17
        }
      ],
      "source": [
        "full_data.columns"
      ]
    },
    {
      "cell_type": "code",
      "execution_count": null,
      "metadata": {
        "colab": {
          "base_uri": "https://localhost:8080/"
        },
        "id": "r_giv_tuHYxx",
        "outputId": "2d9d0e0b-3c1b-4ff7-9f9c-c64c7ee6870c"
      },
      "outputs": [
        {
          "output_type": "stream",
          "name": "stdout",
          "text": [
            "Distinct Town/City: 1152\n",
            "Distinct Districts: 361\n",
            "Distinct Counties: 117\n"
          ]
        }
      ],
      "source": [
        "# Distinct counts\n",
        "print(\"Distinct Town/City:\", full_data[\"Town/City\"].nunique())\n",
        "print(\"Distinct Districts:\", full_data[\"District\"].nunique())\n",
        "print(\"Distinct Counties:\", full_data[\"County\"].nunique())"
      ]
    },
    {
      "cell_type": "code",
      "execution_count": null,
      "metadata": {
        "id": "8fFMyl2ZHY1p"
      },
      "outputs": [],
      "source": []
    },
    {
      "cell_type": "code",
      "execution_count": null,
      "metadata": {
        "colab": {
          "base_uri": "https://localhost:8080/"
        },
        "id": "F6ugmEXoIPAK",
        "outputId": "208e4c91-fe0e-4b59-ab0a-2ff771632663"
      },
      "outputs": [
        {
          "output_type": "stream",
          "name": "stdout",
          "text": [
            "         Year   Town/City  Postcode     Price\n",
            "262436   2015      LONDON  SW14 7EW 9,500,000\n",
            "266684   2015      LONDON   SW3 6EY 9,500,000\n",
            "265733   2015      LONDON  SW1W 9JJ 9,200,000\n",
            "265768   2015      LONDON  SW1X 7AF 9,200,000\n",
            "266681   2015      LONDON   SW3 6BP 9,200,000\n",
            "...       ...         ...       ...       ...\n",
            "4820591  2025  BIRMINGHAM   B32 3JA    10,950\n",
            "4877461  2025       LEEDS   LS1 2EX    10,557\n",
            "4820086  2025  BIRMINGHAM   B26 3LE    10,000\n",
            "4884401  2025   LIVERPOOL    L9 9DQ    10,000\n",
            "4940704  2025     STANLEY   DH9 7HA    10,000\n",
            "\n",
            "[4967114 rows x 4 columns]\n"
          ]
        }
      ],
      "source": [
        "# Group by Year and Town/City, then calculate average Price\n",
        "avg_price_city_year = full_data.groupby(['Year', 'Town/City', 'Postcode'])['Price'].mean().reset_index()\n",
        "\n",
        "# Optionally sort to make it easier to view\n",
        "avg_price_city_year = avg_price_city_year.sort_values(by=['Year', 'Price'], ascending=[True, False])\n",
        "\n",
        "# Preview the first few rows\n",
        "pd.set_option('display.float_format', '{:,.0f}'.format)\n",
        "print(avg_price_city_year)\n"
      ]
    },
    {
      "cell_type": "code",
      "execution_count": null,
      "metadata": {
        "id": "G3fkPnW-IPDN"
      },
      "outputs": [],
      "source": [
        "#district_area = district_area[district_area[\"Town/City\"] == \"NESTON\"]#.sort_values(by='Price', ascending=True)\n",
        "\n",
        "# Sort by price (ascending)\n",
        "#Town = Town.sort_values(by='Price', ascending=True)\n",
        "\n",
        "\n",
        "#district_area"
      ]
    },
    {
      "cell_type": "code",
      "execution_count": null,
      "metadata": {
        "id": "hv5c2JbQOFp7"
      },
      "outputs": [],
      "source": []
    },
    {
      "cell_type": "code",
      "execution_count": null,
      "metadata": {
        "id": "YhS9VtSTOFsn"
      },
      "outputs": [],
      "source": []
    },
    {
      "cell_type": "code",
      "execution_count": null,
      "metadata": {
        "colab": {
          "base_uri": "https://localhost:8080/",
          "height": 423
        },
        "id": "c4NGUnnCOFvF",
        "outputId": "ca2dbcfd-6873-4cca-8c05-a8568f57e8b1"
      },
      "outputs": [
        {
          "output_type": "execute_result",
          "data": {
            "text/plain": [
              "         Year   Town/City  Postcode     Price  n_sales\n",
              "0        2015      LONDON  SW14 7EW 9,500,000        1\n",
              "1        2015      LONDON   SW3 6EY 9,500,000        1\n",
              "2        2015      LONDON  SW1W 9JJ 9,200,000        1\n",
              "3        2015      LONDON  SW1X 7AF 9,200,000        1\n",
              "4        2015      LONDON   SW3 6BP 9,200,000        1\n",
              "...       ...         ...       ...       ...      ...\n",
              "4967109  2025  BIRMINGHAM   B32 3JA    10,950        1\n",
              "4967110  2025       LEEDS   LS1 2EX    10,557        1\n",
              "4967111  2025  BIRMINGHAM   B26 3LE    10,000        1\n",
              "4967112  2025   LIVERPOOL    L9 9DQ    10,000        1\n",
              "4967113  2025     STANLEY   DH9 7HA    10,000        1\n",
              "\n",
              "[4967114 rows x 5 columns]"
            ],
            "text/html": [
              "\n",
              "  <div id=\"df-aecd262c-8247-4cb0-957a-3775a1689601\" class=\"colab-df-container\">\n",
              "    <div>\n",
              "<style scoped>\n",
              "    .dataframe tbody tr th:only-of-type {\n",
              "        vertical-align: middle;\n",
              "    }\n",
              "\n",
              "    .dataframe tbody tr th {\n",
              "        vertical-align: top;\n",
              "    }\n",
              "\n",
              "    .dataframe thead th {\n",
              "        text-align: right;\n",
              "    }\n",
              "</style>\n",
              "<table border=\"1\" class=\"dataframe\">\n",
              "  <thead>\n",
              "    <tr style=\"text-align: right;\">\n",
              "      <th></th>\n",
              "      <th>Year</th>\n",
              "      <th>Town/City</th>\n",
              "      <th>Postcode</th>\n",
              "      <th>Price</th>\n",
              "      <th>n_sales</th>\n",
              "    </tr>\n",
              "  </thead>\n",
              "  <tbody>\n",
              "    <tr>\n",
              "      <th>0</th>\n",
              "      <td>2015</td>\n",
              "      <td>LONDON</td>\n",
              "      <td>SW14 7EW</td>\n",
              "      <td>9,500,000</td>\n",
              "      <td>1</td>\n",
              "    </tr>\n",
              "    <tr>\n",
              "      <th>1</th>\n",
              "      <td>2015</td>\n",
              "      <td>LONDON</td>\n",
              "      <td>SW3 6EY</td>\n",
              "      <td>9,500,000</td>\n",
              "      <td>1</td>\n",
              "    </tr>\n",
              "    <tr>\n",
              "      <th>2</th>\n",
              "      <td>2015</td>\n",
              "      <td>LONDON</td>\n",
              "      <td>SW1W 9JJ</td>\n",
              "      <td>9,200,000</td>\n",
              "      <td>1</td>\n",
              "    </tr>\n",
              "    <tr>\n",
              "      <th>3</th>\n",
              "      <td>2015</td>\n",
              "      <td>LONDON</td>\n",
              "      <td>SW1X 7AF</td>\n",
              "      <td>9,200,000</td>\n",
              "      <td>1</td>\n",
              "    </tr>\n",
              "    <tr>\n",
              "      <th>4</th>\n",
              "      <td>2015</td>\n",
              "      <td>LONDON</td>\n",
              "      <td>SW3 6BP</td>\n",
              "      <td>9,200,000</td>\n",
              "      <td>1</td>\n",
              "    </tr>\n",
              "    <tr>\n",
              "      <th>...</th>\n",
              "      <td>...</td>\n",
              "      <td>...</td>\n",
              "      <td>...</td>\n",
              "      <td>...</td>\n",
              "      <td>...</td>\n",
              "    </tr>\n",
              "    <tr>\n",
              "      <th>4967109</th>\n",
              "      <td>2025</td>\n",
              "      <td>BIRMINGHAM</td>\n",
              "      <td>B32 3JA</td>\n",
              "      <td>10,950</td>\n",
              "      <td>1</td>\n",
              "    </tr>\n",
              "    <tr>\n",
              "      <th>4967110</th>\n",
              "      <td>2025</td>\n",
              "      <td>LEEDS</td>\n",
              "      <td>LS1 2EX</td>\n",
              "      <td>10,557</td>\n",
              "      <td>1</td>\n",
              "    </tr>\n",
              "    <tr>\n",
              "      <th>4967111</th>\n",
              "      <td>2025</td>\n",
              "      <td>BIRMINGHAM</td>\n",
              "      <td>B26 3LE</td>\n",
              "      <td>10,000</td>\n",
              "      <td>1</td>\n",
              "    </tr>\n",
              "    <tr>\n",
              "      <th>4967112</th>\n",
              "      <td>2025</td>\n",
              "      <td>LIVERPOOL</td>\n",
              "      <td>L9 9DQ</td>\n",
              "      <td>10,000</td>\n",
              "      <td>1</td>\n",
              "    </tr>\n",
              "    <tr>\n",
              "      <th>4967113</th>\n",
              "      <td>2025</td>\n",
              "      <td>STANLEY</td>\n",
              "      <td>DH9 7HA</td>\n",
              "      <td>10,000</td>\n",
              "      <td>1</td>\n",
              "    </tr>\n",
              "  </tbody>\n",
              "</table>\n",
              "<p>4967114 rows × 5 columns</p>\n",
              "</div>\n",
              "    <div class=\"colab-df-buttons\">\n",
              "\n",
              "  <div class=\"colab-df-container\">\n",
              "    <button class=\"colab-df-convert\" onclick=\"convertToInteractive('df-aecd262c-8247-4cb0-957a-3775a1689601')\"\n",
              "            title=\"Convert this dataframe to an interactive table.\"\n",
              "            style=\"display:none;\">\n",
              "\n",
              "  <svg xmlns=\"http://www.w3.org/2000/svg\" height=\"24px\" viewBox=\"0 -960 960 960\">\n",
              "    <path d=\"M120-120v-720h720v720H120Zm60-500h600v-160H180v160Zm220 220h160v-160H400v160Zm0 220h160v-160H400v160ZM180-400h160v-160H180v160Zm440 0h160v-160H620v160ZM180-180h160v-160H180v160Zm440 0h160v-160H620v160Z\"/>\n",
              "  </svg>\n",
              "    </button>\n",
              "\n",
              "  <style>\n",
              "    .colab-df-container {\n",
              "      display:flex;\n",
              "      gap: 12px;\n",
              "    }\n",
              "\n",
              "    .colab-df-convert {\n",
              "      background-color: #E8F0FE;\n",
              "      border: none;\n",
              "      border-radius: 50%;\n",
              "      cursor: pointer;\n",
              "      display: none;\n",
              "      fill: #1967D2;\n",
              "      height: 32px;\n",
              "      padding: 0 0 0 0;\n",
              "      width: 32px;\n",
              "    }\n",
              "\n",
              "    .colab-df-convert:hover {\n",
              "      background-color: #E2EBFA;\n",
              "      box-shadow: 0px 1px 2px rgba(60, 64, 67, 0.3), 0px 1px 3px 1px rgba(60, 64, 67, 0.15);\n",
              "      fill: #174EA6;\n",
              "    }\n",
              "\n",
              "    .colab-df-buttons div {\n",
              "      margin-bottom: 4px;\n",
              "    }\n",
              "\n",
              "    [theme=dark] .colab-df-convert {\n",
              "      background-color: #3B4455;\n",
              "      fill: #D2E3FC;\n",
              "    }\n",
              "\n",
              "    [theme=dark] .colab-df-convert:hover {\n",
              "      background-color: #434B5C;\n",
              "      box-shadow: 0px 1px 3px 1px rgba(0, 0, 0, 0.15);\n",
              "      filter: drop-shadow(0px 1px 2px rgba(0, 0, 0, 0.3));\n",
              "      fill: #FFFFFF;\n",
              "    }\n",
              "  </style>\n",
              "\n",
              "    <script>\n",
              "      const buttonEl =\n",
              "        document.querySelector('#df-aecd262c-8247-4cb0-957a-3775a1689601 button.colab-df-convert');\n",
              "      buttonEl.style.display =\n",
              "        google.colab.kernel.accessAllowed ? 'block' : 'none';\n",
              "\n",
              "      async function convertToInteractive(key) {\n",
              "        const element = document.querySelector('#df-aecd262c-8247-4cb0-957a-3775a1689601');\n",
              "        const dataTable =\n",
              "          await google.colab.kernel.invokeFunction('convertToInteractive',\n",
              "                                                    [key], {});\n",
              "        if (!dataTable) return;\n",
              "\n",
              "        const docLinkHtml = 'Like what you see? Visit the ' +\n",
              "          '<a target=\"_blank\" href=https://colab.research.google.com/notebooks/data_table.ipynb>data table notebook</a>'\n",
              "          + ' to learn more about interactive tables.';\n",
              "        element.innerHTML = '';\n",
              "        dataTable['output_type'] = 'display_data';\n",
              "        await google.colab.output.renderOutput(dataTable, element);\n",
              "        const docLink = document.createElement('div');\n",
              "        docLink.innerHTML = docLinkHtml;\n",
              "        element.appendChild(docLink);\n",
              "      }\n",
              "    </script>\n",
              "  </div>\n",
              "\n",
              "\n",
              "    <div id=\"df-4048380f-2620-479b-b14c-ab3f66634d09\">\n",
              "      <button class=\"colab-df-quickchart\" onclick=\"quickchart('df-4048380f-2620-479b-b14c-ab3f66634d09')\"\n",
              "                title=\"Suggest charts\"\n",
              "                style=\"display:none;\">\n",
              "\n",
              "<svg xmlns=\"http://www.w3.org/2000/svg\" height=\"24px\"viewBox=\"0 0 24 24\"\n",
              "     width=\"24px\">\n",
              "    <g>\n",
              "        <path d=\"M19 3H5c-1.1 0-2 .9-2 2v14c0 1.1.9 2 2 2h14c1.1 0 2-.9 2-2V5c0-1.1-.9-2-2-2zM9 17H7v-7h2v7zm4 0h-2V7h2v10zm4 0h-2v-4h2v4z\"/>\n",
              "    </g>\n",
              "</svg>\n",
              "      </button>\n",
              "\n",
              "<style>\n",
              "  .colab-df-quickchart {\n",
              "      --bg-color: #E8F0FE;\n",
              "      --fill-color: #1967D2;\n",
              "      --hover-bg-color: #E2EBFA;\n",
              "      --hover-fill-color: #174EA6;\n",
              "      --disabled-fill-color: #AAA;\n",
              "      --disabled-bg-color: #DDD;\n",
              "  }\n",
              "\n",
              "  [theme=dark] .colab-df-quickchart {\n",
              "      --bg-color: #3B4455;\n",
              "      --fill-color: #D2E3FC;\n",
              "      --hover-bg-color: #434B5C;\n",
              "      --hover-fill-color: #FFFFFF;\n",
              "      --disabled-bg-color: #3B4455;\n",
              "      --disabled-fill-color: #666;\n",
              "  }\n",
              "\n",
              "  .colab-df-quickchart {\n",
              "    background-color: var(--bg-color);\n",
              "    border: none;\n",
              "    border-radius: 50%;\n",
              "    cursor: pointer;\n",
              "    display: none;\n",
              "    fill: var(--fill-color);\n",
              "    height: 32px;\n",
              "    padding: 0;\n",
              "    width: 32px;\n",
              "  }\n",
              "\n",
              "  .colab-df-quickchart:hover {\n",
              "    background-color: var(--hover-bg-color);\n",
              "    box-shadow: 0 1px 2px rgba(60, 64, 67, 0.3), 0 1px 3px 1px rgba(60, 64, 67, 0.15);\n",
              "    fill: var(--button-hover-fill-color);\n",
              "  }\n",
              "\n",
              "  .colab-df-quickchart-complete:disabled,\n",
              "  .colab-df-quickchart-complete:disabled:hover {\n",
              "    background-color: var(--disabled-bg-color);\n",
              "    fill: var(--disabled-fill-color);\n",
              "    box-shadow: none;\n",
              "  }\n",
              "\n",
              "  .colab-df-spinner {\n",
              "    border: 2px solid var(--fill-color);\n",
              "    border-color: transparent;\n",
              "    border-bottom-color: var(--fill-color);\n",
              "    animation:\n",
              "      spin 1s steps(1) infinite;\n",
              "  }\n",
              "\n",
              "  @keyframes spin {\n",
              "    0% {\n",
              "      border-color: transparent;\n",
              "      border-bottom-color: var(--fill-color);\n",
              "      border-left-color: var(--fill-color);\n",
              "    }\n",
              "    20% {\n",
              "      border-color: transparent;\n",
              "      border-left-color: var(--fill-color);\n",
              "      border-top-color: var(--fill-color);\n",
              "    }\n",
              "    30% {\n",
              "      border-color: transparent;\n",
              "      border-left-color: var(--fill-color);\n",
              "      border-top-color: var(--fill-color);\n",
              "      border-right-color: var(--fill-color);\n",
              "    }\n",
              "    40% {\n",
              "      border-color: transparent;\n",
              "      border-right-color: var(--fill-color);\n",
              "      border-top-color: var(--fill-color);\n",
              "    }\n",
              "    60% {\n",
              "      border-color: transparent;\n",
              "      border-right-color: var(--fill-color);\n",
              "    }\n",
              "    80% {\n",
              "      border-color: transparent;\n",
              "      border-right-color: var(--fill-color);\n",
              "      border-bottom-color: var(--fill-color);\n",
              "    }\n",
              "    90% {\n",
              "      border-color: transparent;\n",
              "      border-bottom-color: var(--fill-color);\n",
              "    }\n",
              "  }\n",
              "</style>\n",
              "\n",
              "      <script>\n",
              "        async function quickchart(key) {\n",
              "          const quickchartButtonEl =\n",
              "            document.querySelector('#' + key + ' button');\n",
              "          quickchartButtonEl.disabled = true;  // To prevent multiple clicks.\n",
              "          quickchartButtonEl.classList.add('colab-df-spinner');\n",
              "          try {\n",
              "            const charts = await google.colab.kernel.invokeFunction(\n",
              "                'suggestCharts', [key], {});\n",
              "          } catch (error) {\n",
              "            console.error('Error during call to suggestCharts:', error);\n",
              "          }\n",
              "          quickchartButtonEl.classList.remove('colab-df-spinner');\n",
              "          quickchartButtonEl.classList.add('colab-df-quickchart-complete');\n",
              "        }\n",
              "        (() => {\n",
              "          let quickchartButtonEl =\n",
              "            document.querySelector('#df-4048380f-2620-479b-b14c-ab3f66634d09 button');\n",
              "          quickchartButtonEl.style.display =\n",
              "            google.colab.kernel.accessAllowed ? 'block' : 'none';\n",
              "        })();\n",
              "      </script>\n",
              "    </div>\n",
              "\n",
              "  <div id=\"id_29484283-1132-4da7-9104-ab51d7e29254\">\n",
              "    <style>\n",
              "      .colab-df-generate {\n",
              "        background-color: #E8F0FE;\n",
              "        border: none;\n",
              "        border-radius: 50%;\n",
              "        cursor: pointer;\n",
              "        display: none;\n",
              "        fill: #1967D2;\n",
              "        height: 32px;\n",
              "        padding: 0 0 0 0;\n",
              "        width: 32px;\n",
              "      }\n",
              "\n",
              "      .colab-df-generate:hover {\n",
              "        background-color: #E2EBFA;\n",
              "        box-shadow: 0px 1px 2px rgba(60, 64, 67, 0.3), 0px 1px 3px 1px rgba(60, 64, 67, 0.15);\n",
              "        fill: #174EA6;\n",
              "      }\n",
              "\n",
              "      [theme=dark] .colab-df-generate {\n",
              "        background-color: #3B4455;\n",
              "        fill: #D2E3FC;\n",
              "      }\n",
              "\n",
              "      [theme=dark] .colab-df-generate:hover {\n",
              "        background-color: #434B5C;\n",
              "        box-shadow: 0px 1px 3px 1px rgba(0, 0, 0, 0.15);\n",
              "        filter: drop-shadow(0px 1px 2px rgba(0, 0, 0, 0.3));\n",
              "        fill: #FFFFFF;\n",
              "      }\n",
              "    </style>\n",
              "    <button class=\"colab-df-generate\" onclick=\"generateWithVariable('filtered_avg')\"\n",
              "            title=\"Generate code using this dataframe.\"\n",
              "            style=\"display:none;\">\n",
              "\n",
              "  <svg xmlns=\"http://www.w3.org/2000/svg\" height=\"24px\"viewBox=\"0 0 24 24\"\n",
              "       width=\"24px\">\n",
              "    <path d=\"M7,19H8.4L18.45,9,17,7.55,7,17.6ZM5,21V16.75L18.45,3.32a2,2,0,0,1,2.83,0l1.4,1.43a1.91,1.91,0,0,1,.58,1.4,1.91,1.91,0,0,1-.58,1.4L9.25,21ZM18.45,9,17,7.55Zm-12,3A5.31,5.31,0,0,0,4.9,8.1,5.31,5.31,0,0,0,1,6.5,5.31,5.31,0,0,0,4.9,4.9,5.31,5.31,0,0,0,6.5,1,5.31,5.31,0,0,0,8.1,4.9,5.31,5.31,0,0,0,12,6.5,5.46,5.46,0,0,0,6.5,12Z\"/>\n",
              "  </svg>\n",
              "    </button>\n",
              "    <script>\n",
              "      (() => {\n",
              "      const buttonEl =\n",
              "        document.querySelector('#id_29484283-1132-4da7-9104-ab51d7e29254 button.colab-df-generate');\n",
              "      buttonEl.style.display =\n",
              "        google.colab.kernel.accessAllowed ? 'block' : 'none';\n",
              "\n",
              "      buttonEl.onclick = () => {\n",
              "        google.colab.notebook.generateWithVariable('filtered_avg');\n",
              "      }\n",
              "      })();\n",
              "    </script>\n",
              "  </div>\n",
              "\n",
              "    </div>\n",
              "  </div>\n"
            ],
            "application/vnd.google.colaboratory.intrinsic+json": {
              "type": "dataframe",
              "variable_name": "filtered_avg"
            }
          },
          "metadata": {},
          "execution_count": 21
        }
      ],
      "source": [
        "# Filter out single-sale towns per year to avoid skew\n",
        "transaction_counts = full_data.groupby(['Year', 'Town/City', 'Postcode'])['Price'].count().reset_index(name='n_sales')\n",
        "merged = avg_price_city_year.merge(transaction_counts, on=['Year', 'Town/City', 'Postcode'])\n",
        "filtered_avg = merged[merged['n_sales'] > 0]  # Keep only those with more than 1 transaction\n",
        "\n",
        "# Now use `filtered_avg` for charts or summaries\n",
        "filtered_avg"
      ]
    },
    {
      "cell_type": "code",
      "execution_count": null,
      "metadata": {
        "id": "ickUdOx-J46l"
      },
      "outputs": [],
      "source": []
    },
    {
      "cell_type": "code",
      "execution_count": null,
      "metadata": {
        "colab": {
          "base_uri": "https://localhost:8080/",
          "height": 449
        },
        "id": "nTznScugRmf9",
        "outputId": "0725785d-8e6f-477c-c14c-23e9f4a8b7a6"
      },
      "outputs": [
        {
          "output_type": "display_data",
          "data": {
            "text/plain": [
              "<Figure size 640x480 with 1 Axes>"
            ],
            "image/png": "[encoded data removed]"
          },
          "metadata": {}
        }
      ],
      "source": [
        "from matplotlib import pyplot as plt\n",
        "filtered_avg.plot(kind='scatter', x='Price', y='n_sales', s=32, alpha=.8)\n",
        "plt.gca().spines[['top', 'right',]].set_visible(False)"
      ]
    },
    {
      "cell_type": "code",
      "execution_count": null,
      "metadata": {
        "id": "tyjNlgLzN_7T",
        "colab": {
          "base_uri": "https://localhost:8080/",
          "height": 465
        },
        "outputId": "8fbd2e81-e9ba-411b-b127-95c3a718c8d1"
      },
      "outputs": [
        {
          "output_type": "display_data",
          "data": {
            "text/plain": [
              "<Figure size 640x480 with 1 Axes>"
            ],
            "image/png": "[encoded data removed]"
          },
          "metadata": {}
        }
      ],
      "source": [
        "from matplotlib import pyplot as plt\n",
        "filtered_avg.plot(kind='scatter', x='Year', y='Price', s=32, alpha=.8)\n",
        "plt.gca().spines[['top', 'right',]].set_visible(False)"
      ]
    },
    {
      "cell_type": "code",
      "execution_count": null,
      "metadata": {
        "id": "YjvACGtYUn8L"
      },
      "outputs": [],
      "source": []
    },
    {
      "cell_type": "code",
      "execution_count": null,
      "metadata": {
        "id": "rdAtNxNtUn_k",
        "colab": {
          "base_uri": "https://localhost:8080/",
          "height": 607
        },
        "outputId": "675a4d0d-7214-48d9-b2af-d0ae6c7ae659"
      },
      "outputs": [
        {
          "output_type": "display_data",
          "data": {
            "text/plain": [
              "<Figure size 800x600 with 1 Axes>"
            ],
            "image/png": "[encoded data removed]"
          },
          "metadata": {}
        }
      ],
      "source": [
        "from sklearn.cluster import KMeans\n",
        "from sklearn.preprocessing import StandardScaler\n",
        "import matplotlib.pyplot as plt\n",
        "\n",
        "summary = filtered_avg.copy()\n",
        "\n",
        "# Select features\n",
        "features = summary[['Price', 'n_sales']].copy()\n",
        "\n",
        "# Scale the data\n",
        "scaler = StandardScaler()\n",
        "scaled_features = scaler.fit_transform(features)\n",
        "\n",
        "# Run K-Means\n",
        "kmeans = KMeans(n_clusters=4, random_state=42)\n",
        "summary['Cluster'] = kmeans.fit_predict(scaled_features)\n",
        "\n",
        "# Visualize\n",
        "plt.figure(figsize=(8, 6))\n",
        "plt.scatter(summary['Price'], summary['n_sales'],\n",
        "            c=summary['Cluster'], cmap='viridis', s=100)\n",
        "plt.xlabel('Average Price (£)')\n",
        "plt.ylabel('Number of Sales')\n",
        "plt.title('K-Means Clustering')\n",
        "plt.grid(True)\n",
        "plt.tight_layout()\n",
        "plt.show()\n"
      ]
    },
    {
      "cell_type": "code",
      "execution_count": null,
      "metadata": {
        "id": "MSJe_QWhXMEw"
      },
      "outputs": [],
      "source": []
    },
    {
      "cell_type": "code",
      "execution_count": null,
      "metadata": {
        "id": "S_x3NEWQXMHm"
      },
      "outputs": [],
      "source": []
    },
    {
      "cell_type": "code",
      "execution_count": null,
      "metadata": {
        "id": "GNI7DogSXMKn"
      },
      "outputs": [],
      "source": [
        "from sklearn.preprocessing import StandardScaler, LabelEncoder\n",
        "from sklearn.cluster import KMeans\n",
        "\n",
        "# Encode Postcode_Area for internal use (not recommended for distance calc)\n",
        "data = filtered_avg.copy()\n",
        "data['Postcode_Code'] = LabelEncoder().fit_transform(data['Postcode'])\n",
        "\n",
        "# Use Year, Price, n_sales\n",
        "X = data[['Year', 'Price', 'n_sales']].copy()\n",
        "\n",
        "# Standardize\n",
        "scaler = StandardScaler()\n",
        "X_scaled = scaler.fit_transform(X)\n",
        "\n",
        "# KMeans\n",
        "kmeans = KMeans(n_clusters=4, random_state=42)\n",
        "data['Cluster'] = kmeans.fit_predict(X_scaled)\n"
      ]
    },
    {
      "cell_type": "code",
      "execution_count": null,
      "metadata": {
        "id": "Vuh3MPgDXQ1h",
        "colab": {
          "base_uri": "https://localhost:8080/",
          "height": 423
        },
        "outputId": "ae933d04-7eb9-45b0-b625-4e6ead1304ea"
      },
      "outputs": [
        {
          "output_type": "execute_result",
          "data": {
            "text/plain": [
              "         Year   Town/City  Postcode     Price  n_sales  Postcode_Code  Cluster\n",
              "0        2015      LONDON  SW14 7EW 9,500,000        1         955457        1\n",
              "1        2015      LONDON   SW3 6EY 9,500,000        1         963571        1\n",
              "2        2015      LONDON  SW1W 9JJ 9,200,000        1         961575        1\n",
              "3        2015      LONDON  SW1X 7AF 9,200,000        1         961648        1\n",
              "4        2015      LONDON   SW3 6BP 9,200,000        1         963556        1\n",
              "...       ...         ...       ...       ...      ...            ...      ...\n",
              "4967109  2025  BIRMINGHAM   B32 3JA    10,950        1          15222        3\n",
              "4967110  2025       LEEDS   LS1 2EX    10,557        1         517855        3\n",
              "4967111  2025  BIRMINGHAM   B26 3LE    10,000        1          11840        3\n",
              "4967112  2025   LIVERPOOL    L9 9DQ    10,000        1         469454        3\n",
              "4967113  2025     STANLEY   DH9 7HA    10,000        1         270757        3\n",
              "\n",
              "[4967114 rows x 7 columns]"
            ],
            "text/html": [
              "\n",
              "  <div id=\"df-7b0138cd-7f16-4588-980e-e45368409df8\" class=\"colab-df-container\">\n",
              "    <div>\n",
              "<style scoped>\n",
              "    .dataframe tbody tr th:only-of-type {\n",
              "        vertical-align: middle;\n",
              "    }\n",
              "\n",
              "    .dataframe tbody tr th {\n",
              "        vertical-align: top;\n",
              "    }\n",
              "\n",
              "    .dataframe thead th {\n",
              "        text-align: right;\n",
              "    }\n",
              "</style>\n",
              "<table border=\"1\" class=\"dataframe\">\n",
              "  <thead>\n",
              "    <tr style=\"text-align: right;\">\n",
              "      <th></th>\n",
              "      <th>Year</th>\n",
              "      <th>Town/City</th>\n",
              "      <th>Postcode</th>\n",
              "      <th>Price</th>\n",
              "      <th>n_sales</th>\n",
              "      <th>Postcode_Code</th>\n",
              "      <th>Cluster</th>\n",
              "    </tr>\n",
              "  </thead>\n",
              "  <tbody>\n",
              "    <tr>\n",
              "      <th>0</th>\n",
              "      <td>2015</td>\n",
              "      <td>LONDON</td>\n",
              "      <td>SW14 7EW</td>\n",
              "      <td>9,500,000</td>\n",
              "      <td>1</td>\n",
              "      <td>955457</td>\n",
              "      <td>1</td>\n",
              "    </tr>\n",
              "    <tr>\n",
              "      <th>1</th>\n",
              "      <td>2015</td>\n",
              "      <td>LONDON</td>\n",
              "      <td>SW3 6EY</td>\n",
              "      <td>9,500,000</td>\n",
              "      <td>1</td>\n",
              "      <td>963571</td>\n",
              "      <td>1</td>\n",
              "    </tr>\n",
              "    <tr>\n",
              "      <th>2</th>\n",
              "      <td>2015</td>\n",
              "      <td>LONDON</td>\n",
              "      <td>SW1W 9JJ</td>\n",
              "      <td>9,200,000</td>\n",
              "      <td>1</td>\n",
              "      <td>961575</td>\n",
              "      <td>1</td>\n",
              "    </tr>\n",
              "    <tr>\n",
              "      <th>3</th>\n",
              "      <td>2015</td>\n",
              "      <td>LONDON</td>\n",
              "      <td>SW1X 7AF</td>\n",
              "      <td>9,200,000</td>\n",
              "      <td>1</td>\n",
              "      <td>961648</td>\n",
              "      <td>1</td>\n",
              "    </tr>\n",
              "    <tr>\n",
              "      <th>4</th>\n",
              "      <td>2015</td>\n",
              "      <td>LONDON</td>\n",
              "      <td>SW3 6BP</td>\n",
              "      <td>9,200,000</td>\n",
              "      <td>1</td>\n",
              "      <td>963556</td>\n",
              "      <td>1</td>\n",
              "    </tr>\n",
              "    <tr>\n",
              "      <th>...</th>\n",
              "      <td>...</td>\n",
              "      <td>...</td>\n",
              "      <td>...</td>\n",
              "      <td>...</td>\n",
              "      <td>...</td>\n",
              "      <td>...</td>\n",
              "      <td>...</td>\n",
              "    </tr>\n",
              "    <tr>\n",
              "      <th>4967109</th>\n",
              "      <td>2025</td>\n",
              "      <td>BIRMINGHAM</td>\n",
              "      <td>B32 3JA</td>\n",
              "      <td>10,950</td>\n",
              "      <td>1</td>\n",
              "      <td>15222</td>\n",
              "      <td>3</td>\n",
              "    </tr>\n",
              "    <tr>\n",
              "      <th>4967110</th>\n",
              "      <td>2025</td>\n",
              "      <td>LEEDS</td>\n",
              "      <td>LS1 2EX</td>\n",
              "      <td>10,557</td>\n",
              "      <td>1</td>\n",
              "      <td>517855</td>\n",
              "      <td>3</td>\n",
              "    </tr>\n",
              "    <tr>\n",
              "      <th>4967111</th>\n",
              "      <td>2025</td>\n",
              "      <td>BIRMINGHAM</td>\n",
              "      <td>B26 3LE</td>\n",
              "      <td>10,000</td>\n",
              "      <td>1</td>\n",
              "      <td>11840</td>\n",
              "      <td>3</td>\n",
              "    </tr>\n",
              "    <tr>\n",
              "      <th>4967112</th>\n",
              "      <td>2025</td>\n",
              "      <td>LIVERPOOL</td>\n",
              "      <td>L9 9DQ</td>\n",
              "      <td>10,000</td>\n",
              "      <td>1</td>\n",
              "      <td>469454</td>\n",
              "      <td>3</td>\n",
              "    </tr>\n",
              "    <tr>\n",
              "      <th>4967113</th>\n",
              "      <td>2025</td>\n",
              "      <td>STANLEY</td>\n",
              "      <td>DH9 7HA</td>\n",
              "      <td>10,000</td>\n",
              "      <td>1</td>\n",
              "      <td>270757</td>\n",
              "      <td>3</td>\n",
              "    </tr>\n",
              "  </tbody>\n",
              "</table>\n",
              "<p>4967114 rows × 7 columns</p>\n",
              "</div>\n",
              "    <div class=\"colab-df-buttons\">\n",
              "\n",
              "  <div class=\"colab-df-container\">\n",
              "    <button class=\"colab-df-convert\" onclick=\"convertToInteractive('df-7b0138cd-7f16-4588-980e-e45368409df8')\"\n",
              "            title=\"Convert this dataframe to an interactive table.\"\n",
              "            style=\"display:none;\">\n",
              "\n",
              "  <svg xmlns=\"http://www.w3.org/2000/svg\" height=\"24px\" viewBox=\"0 -960 960 960\">\n",
              "    <path d=\"M120-120v-720h720v720H120Zm60-500h600v-160H180v160Zm220 220h160v-160H400v160Zm0 220h160v-160H400v160ZM180-400h160v-160H180v160Zm440 0h160v-160H620v160ZM180-180h160v-160H180v160Zm440 0h160v-160H620v160Z\"/>\n",
              "  </svg>\n",
              "    </button>\n",
              "\n",
              "  <style>\n",
              "    .colab-df-container {\n",
              "      display:flex;\n",
              "      gap: 12px;\n",
              "    }\n",
              "\n",
              "    .colab-df-convert {\n",
              "      background-color: #E8F0FE;\n",
              "      border: none;\n",
              "      border-radius: 50%;\n",
              "      cursor: pointer;\n",
              "      display: none;\n",
              "      fill: #1967D2;\n",
              "      height: 32px;\n",
              "      padding: 0 0 0 0;\n",
              "      width: 32px;\n",
              "    }\n",
              "\n",
              "    .colab-df-convert:hover {\n",
              "      background-color: #E2EBFA;\n",
              "      box-shadow: 0px 1px 2px rgba(60, 64, 67, 0.3), 0px 1px 3px 1px rgba(60, 64, 67, 0.15);\n",
              "      fill: #174EA6;\n",
              "    }\n",
              "\n",
              "    .colab-df-buttons div {\n",
              "      margin-bottom: 4px;\n",
              "    }\n",
              "\n",
              "    [theme=dark] .colab-df-convert {\n",
              "      background-color: #3B4455;\n",
              "      fill: #D2E3FC;\n",
              "    }\n",
              "\n",
              "    [theme=dark] .colab-df-convert:hover {\n",
              "      background-color: #434B5C;\n",
              "      box-shadow: 0px 1px 3px 1px rgba(0, 0, 0, 0.15);\n",
              "      filter: drop-shadow(0px 1px 2px rgba(0, 0, 0, 0.3));\n",
              "      fill: #FFFFFF;\n",
              "    }\n",
              "  </style>\n",
              "\n",
              "    <script>\n",
              "      const buttonEl =\n",
              "        document.querySelector('#df-7b0138cd-7f16-4588-980e-e45368409df8 button.colab-df-convert');\n",
              "      buttonEl.style.display =\n",
              "        google.colab.kernel.accessAllowed ? 'block' : 'none';\n",
              "\n",
              "      async function convertToInteractive(key) {\n",
              "        const element = document.querySelector('#df-7b0138cd-7f16-4588-980e-e45368409df8');\n",
              "        const dataTable =\n",
              "          await google.colab.kernel.invokeFunction('convertToInteractive',\n",
              "                                                    [key], {});\n",
              "        if (!dataTable) return;\n",
              "\n",
              "        const docLinkHtml = 'Like what you see? Visit the ' +\n",
              "          '<a target=\"_blank\" href=https://colab.research.google.com/notebooks/data_table.ipynb>data table notebook</a>'\n",
              "          + ' to learn more about interactive tables.';\n",
              "        element.innerHTML = '';\n",
              "        dataTable['output_type'] = 'display_data';\n",
              "        await google.colab.output.renderOutput(dataTable, element);\n",
              "        const docLink = document.createElement('div');\n",
              "        docLink.innerHTML = docLinkHtml;\n",
              "        element.appendChild(docLink);\n",
              "      }\n",
              "    </script>\n",
              "  </div>\n",
              "\n",
              "\n",
              "    <div id=\"df-d88bef32-7a00-42e8-a87a-af8f344eba82\">\n",
              "      <button class=\"colab-df-quickchart\" onclick=\"quickchart('df-d88bef32-7a00-42e8-a87a-af8f344eba82')\"\n",
              "                title=\"Suggest charts\"\n",
              "                style=\"display:none;\">\n",
              "\n",
              "<svg xmlns=\"http://www.w3.org/2000/svg\" height=\"24px\"viewBox=\"0 0 24 24\"\n",
              "     width=\"24px\">\n",
              "    <g>\n",
              "        <path d=\"M19 3H5c-1.1 0-2 .9-2 2v14c0 1.1.9 2 2 2h14c1.1 0 2-.9 2-2V5c0-1.1-.9-2-2-2zM9 17H7v-7h2v7zm4 0h-2V7h2v10zm4 0h-2v-4h2v4z\"/>\n",
              "    </g>\n",
              "</svg>\n",
              "      </button>\n",
              "\n",
              "<style>\n",
              "  .colab-df-quickchart {\n",
              "      --bg-color: #E8F0FE;\n",
              "      --fill-color: #1967D2;\n",
              "      --hover-bg-color: #E2EBFA;\n",
              "      --hover-fill-color: #174EA6;\n",
              "      --disabled-fill-color: #AAA;\n",
              "      --disabled-bg-color: #DDD;\n",
              "  }\n",
              "\n",
              "  [theme=dark] .colab-df-quickchart {\n",
              "      --bg-color: #3B4455;\n",
              "      --fill-color: #D2E3FC;\n",
              "      --hover-bg-color: #434B5C;\n",
              "      --hover-fill-color: #FFFFFF;\n",
              "      --disabled-bg-color: #3B4455;\n",
              "      --disabled-fill-color: #666;\n",
              "  }\n",
              "\n",
              "  .colab-df-quickchart {\n",
              "    background-color: var(--bg-color);\n",
              "    border: none;\n",
              "    border-radius: 50%;\n",
              "    cursor: pointer;\n",
              "    display: none;\n",
              "    fill: var(--fill-color);\n",
              "    height: 32px;\n",
              "    padding: 0;\n",
              "    width: 32px;\n",
              "  }\n",
              "\n",
              "  .colab-df-quickchart:hover {\n",
              "    background-color: var(--hover-bg-color);\n",
              "    box-shadow: 0 1px 2px rgba(60, 64, 67, 0.3), 0 1px 3px 1px rgba(60, 64, 67, 0.15);\n",
              "    fill: var(--button-hover-fill-color);\n",
              "  }\n",
              "\n",
              "  .colab-df-quickchart-complete:disabled,\n",
              "  .colab-df-quickchart-complete:disabled:hover {\n",
              "    background-color: var(--disabled-bg-color);\n",
              "    fill: var(--disabled-fill-color);\n",
              "    box-shadow: none;\n",
              "  }\n",
              "\n",
              "  .colab-df-spinner {\n",
              "    border: 2px solid var(--fill-color);\n",
              "    border-color: transparent;\n",
              "    border-bottom-color: var(--fill-color);\n",
              "    animation:\n",
              "      spin 1s steps(1) infinite;\n",
              "  }\n",
              "\n",
              "  @keyframes spin {\n",
              "    0% {\n",
              "      border-color: transparent;\n",
              "      border-bottom-color: var(--fill-color);\n",
              "      border-left-color: var(--fill-color);\n",
              "    }\n",
              "    20% {\n",
              "      border-color: transparent;\n",
              "      border-left-color: var(--fill-color);\n",
              "      border-top-color: var(--fill-color);\n",
              "    }\n",
              "    30% {\n",
              "      border-color: transparent;\n",
              "      border-left-color: var(--fill-color);\n",
              "      border-top-color: var(--fill-color);\n",
              "      border-right-color: var(--fill-color);\n",
              "    }\n",
              "    40% {\n",
              "      border-color: transparent;\n",
              "      border-right-color: var(--fill-color);\n",
              "      border-top-color: var(--fill-color);\n",
              "    }\n",
              "    60% {\n",
              "      border-color: transparent;\n",
              "      border-right-color: var(--fill-color);\n",
              "    }\n",
              "    80% {\n",
              "      border-color: transparent;\n",
              "      border-right-color: var(--fill-color);\n",
              "      border-bottom-color: var(--fill-color);\n",
              "    }\n",
              "    90% {\n",
              "      border-color: transparent;\n",
              "      border-bottom-color: var(--fill-color);\n",
              "    }\n",
              "  }\n",
              "</style>\n",
              "\n",
              "      <script>\n",
              "        async function quickchart(key) {\n",
              "          const quickchartButtonEl =\n",
              "            document.querySelector('#' + key + ' button');\n",
              "          quickchartButtonEl.disabled = true;  // To prevent multiple clicks.\n",
              "          quickchartButtonEl.classList.add('colab-df-spinner');\n",
              "          try {\n",
              "            const charts = await google.colab.kernel.invokeFunction(\n",
              "                'suggestCharts', [key], {});\n",
              "          } catch (error) {\n",
              "            console.error('Error during call to suggestCharts:', error);\n",
              "          }\n",
              "          quickchartButtonEl.classList.remove('colab-df-spinner');\n",
              "          quickchartButtonEl.classList.add('colab-df-quickchart-complete');\n",
              "        }\n",
              "        (() => {\n",
              "          let quickchartButtonEl =\n",
              "            document.querySelector('#df-d88bef32-7a00-42e8-a87a-af8f344eba82 button');\n",
              "          quickchartButtonEl.style.display =\n",
              "            google.colab.kernel.accessAllowed ? 'block' : 'none';\n",
              "        })();\n",
              "      </script>\n",
              "    </div>\n",
              "\n",
              "  <div id=\"id_0553cde5-ff3c-4dc3-87c0-badeda6b2d33\">\n",
              "    <style>\n",
              "      .colab-df-generate {\n",
              "        background-color: #E8F0FE;\n",
              "        border: none;\n",
              "        border-radius: 50%;\n",
              "        cursor: pointer;\n",
              "        display: none;\n",
              "        fill: #1967D2;\n",
              "        height: 32px;\n",
              "        padding: 0 0 0 0;\n",
              "        width: 32px;\n",
              "      }\n",
              "\n",
              "      .colab-df-generate:hover {\n",
              "        background-color: #E2EBFA;\n",
              "        box-shadow: 0px 1px 2px rgba(60, 64, 67, 0.3), 0px 1px 3px 1px rgba(60, 64, 67, 0.15);\n",
              "        fill: #174EA6;\n",
              "      }\n",
              "\n",
              "      [theme=dark] .colab-df-generate {\n",
              "        background-color: #3B4455;\n",
              "        fill: #D2E3FC;\n",
              "      }\n",
              "\n",
              "      [theme=dark] .colab-df-generate:hover {\n",
              "        background-color: #434B5C;\n",
              "        box-shadow: 0px 1px 3px 1px rgba(0, 0, 0, 0.15);\n",
              "        filter: drop-shadow(0px 1px 2px rgba(0, 0, 0, 0.3));\n",
              "        fill: #FFFFFF;\n",
              "      }\n",
              "    </style>\n",
              "    <button class=\"colab-df-generate\" onclick=\"generateWithVariable('data')\"\n",
              "            title=\"Generate code using this dataframe.\"\n",
              "            style=\"display:none;\">\n",
              "\n",
              "  <svg xmlns=\"http://www.w3.org/2000/svg\" height=\"24px\"viewBox=\"0 0 24 24\"\n",
              "       width=\"24px\">\n",
              "    <path d=\"M7,19H8.4L18.45,9,17,7.55,7,17.6ZM5,21V16.75L18.45,3.32a2,2,0,0,1,2.83,0l1.4,1.43a1.91,1.91,0,0,1,.58,1.4,1.91,1.91,0,0,1-.58,1.4L9.25,21ZM18.45,9,17,7.55Zm-12,3A5.31,5.31,0,0,0,4.9,8.1,5.31,5.31,0,0,0,1,6.5,5.31,5.31,0,0,0,4.9,4.9,5.31,5.31,0,0,0,6.5,1,5.31,5.31,0,0,0,8.1,4.9,5.31,5.31,0,0,0,12,6.5,5.46,5.46,0,0,0,6.5,12Z\"/>\n",
              "  </svg>\n",
              "    </button>\n",
              "    <script>\n",
              "      (() => {\n",
              "      const buttonEl =\n",
              "        document.querySelector('#id_0553cde5-ff3c-4dc3-87c0-badeda6b2d33 button.colab-df-generate');\n",
              "      buttonEl.style.display =\n",
              "        google.colab.kernel.accessAllowed ? 'block' : 'none';\n",
              "\n",
              "      buttonEl.onclick = () => {\n",
              "        google.colab.notebook.generateWithVariable('data');\n",
              "      }\n",
              "      })();\n",
              "    </script>\n",
              "  </div>\n",
              "\n",
              "    </div>\n",
              "  </div>\n"
            ],
            "application/vnd.google.colaboratory.intrinsic+json": {
              "type": "dataframe",
              "variable_name": "data"
            }
          },
          "metadata": {},
          "execution_count": 26
        }
      ],
      "source": [
        "data"
      ]
    },
    {
      "cell_type": "code",
      "execution_count": null,
      "metadata": {
        "id": "Qlp9OBe2XQ4F",
        "colab": {
          "base_uri": "https://localhost:8080/",
          "height": 487
        },
        "outputId": "5ef8997a-bba2-48b9-d9f3-6e61fd3f51b4"
      },
      "outputs": [
        {
          "output_type": "display_data",
          "data": {
            "text/plain": [
              "<Figure size 1000x500 with 1 Axes>"
            ],
            "image/png": "[encoded data removed]"
          },
          "metadata": {}
        }
      ],
      "source": [
        "import seaborn as sns\n",
        "import matplotlib.pyplot as plt\n",
        "\n",
        "# Drop NaNs first to avoid errors\n",
        "valid_postcodes = full_data[\"Postcode\"].dropna().unique()\n",
        "\n",
        "# Randomly pick one postcode\n",
        "random_postcode = random.choice(valid_postcodes)\n",
        "\n",
        "area_history = data[data['Postcode'] == random_postcode]\n",
        "#area_history = data[data['Postcode'] == \"CH62 5EG\"]\n",
        "\n",
        "plt.figure(figsize=(10, 5))\n",
        "sns.lineplot(x='Year', y='Price', hue='Cluster', data=area_history, palette='viridis', marker='o')\n",
        "plt.title(f\"{random_postcode} Price & Cluster Evolution Over Time\")\n",
        "plt.ylabel(\"Average Price (£)\")\n",
        "plt.show()\n"
      ]
    },
    {
      "cell_type": "code",
      "execution_count": null,
      "metadata": {
        "id": "xh_y6omvYgti",
        "colab": {
          "base_uri": "https://localhost:8080/",
          "height": 89
        },
        "outputId": "b8dc82f8-9cd8-45b8-de4c-55ff49d87eb9"
      },
      "outputs": [
        {
          "output_type": "execute_result",
          "data": {
            "text/plain": [
              "         Year Town/City Postcode   Price  n_sales  Postcode_Code  Cluster\n",
              "3561300  2022    LONDON   E6 5PJ 480,000        1         319094        3"
            ],
            "text/html": [
              "\n",
              "  <div id=\"df-24ecba86-17d5-4e3f-8d81-e1bc8206713e\" class=\"colab-df-container\">\n",
              "    <div>\n",
              "<style scoped>\n",
              "    .dataframe tbody tr th:only-of-type {\n",
              "        vertical-align: middle;\n",
              "    }\n",
              "\n",
              "    .dataframe tbody tr th {\n",
              "        vertical-align: top;\n",
              "    }\n",
              "\n",
              "    .dataframe thead th {\n",
              "        text-align: right;\n",
              "    }\n",
              "</style>\n",
              "<table border=\"1\" class=\"dataframe\">\n",
              "  <thead>\n",
              "    <tr style=\"text-align: right;\">\n",
              "      <th></th>\n",
              "      <th>Year</th>\n",
              "      <th>Town/City</th>\n",
              "      <th>Postcode</th>\n",
              "      <th>Price</th>\n",
              "      <th>n_sales</th>\n",
              "      <th>Postcode_Code</th>\n",
              "      <th>Cluster</th>\n",
              "    </tr>\n",
              "  </thead>\n",
              "  <tbody>\n",
              "    <tr>\n",
              "      <th>3561300</th>\n",
              "      <td>2022</td>\n",
              "      <td>LONDON</td>\n",
              "      <td>E6 5PJ</td>\n",
              "      <td>480,000</td>\n",
              "      <td>1</td>\n",
              "      <td>319094</td>\n",
              "      <td>3</td>\n",
              "    </tr>\n",
              "  </tbody>\n",
              "</table>\n",
              "</div>\n",
              "    <div class=\"colab-df-buttons\">\n",
              "\n",
              "  <div class=\"colab-df-container\">\n",
              "    <button class=\"colab-df-convert\" onclick=\"convertToInteractive('df-24ecba86-17d5-4e3f-8d81-e1bc8206713e')\"\n",
              "            title=\"Convert this dataframe to an interactive table.\"\n",
              "            style=\"display:none;\">\n",
              "\n",
              "  <svg xmlns=\"http://www.w3.org/2000/svg\" height=\"24px\" viewBox=\"0 -960 960 960\">\n",
              "    <path d=\"M120-120v-720h720v720H120Zm60-500h600v-160H180v160Zm220 220h160v-160H400v160Zm0 220h160v-160H400v160ZM180-400h160v-160H180v160Zm440 0h160v-160H620v160ZM180-180h160v-160H180v160Zm440 0h160v-160H620v160Z\"/>\n",
              "  </svg>\n",
              "    </button>\n",
              "\n",
              "  <style>\n",
              "    .colab-df-container {\n",
              "      display:flex;\n",
              "      gap: 12px;\n",
              "    }\n",
              "\n",
              "    .colab-df-convert {\n",
              "      background-color: #E8F0FE;\n",
              "      border: none;\n",
              "      border-radius: 50%;\n",
              "      cursor: pointer;\n",
              "      display: none;\n",
              "      fill: #1967D2;\n",
              "      height: 32px;\n",
              "      padding: 0 0 0 0;\n",
              "      width: 32px;\n",
              "    }\n",
              "\n",
              "    .colab-df-convert:hover {\n",
              "      background-color: #E2EBFA;\n",
              "      box-shadow: 0px 1px 2px rgba(60, 64, 67, 0.3), 0px 1px 3px 1px rgba(60, 64, 67, 0.15);\n",
              "      fill: #174EA6;\n",
              "    }\n",
              "\n",
              "    .colab-df-buttons div {\n",
              "      margin-bottom: 4px;\n",
              "    }\n",
              "\n",
              "    [theme=dark] .colab-df-convert {\n",
              "      background-color: #3B4455;\n",
              "      fill: #D2E3FC;\n",
              "    }\n",
              "\n",
              "    [theme=dark] .colab-df-convert:hover {\n",
              "      background-color: #434B5C;\n",
              "      box-shadow: 0px 1px 3px 1px rgba(0, 0, 0, 0.15);\n",
              "      filter: drop-shadow(0px 1px 2px rgba(0, 0, 0, 0.3));\n",
              "      fill: #FFFFFF;\n",
              "    }\n",
              "  </style>\n",
              "\n",
              "    <script>\n",
              "      const buttonEl =\n",
              "        document.querySelector('#df-24ecba86-17d5-4e3f-8d81-e1bc8206713e button.colab-df-convert');\n",
              "      buttonEl.style.display =\n",
              "        google.colab.kernel.accessAllowed ? 'block' : 'none';\n",
              "\n",
              "      async function convertToInteractive(key) {\n",
              "        const element = document.querySelector('#df-24ecba86-17d5-4e3f-8d81-e1bc8206713e');\n",
              "        const dataTable =\n",
              "          await google.colab.kernel.invokeFunction('convertToInteractive',\n",
              "                                                    [key], {});\n",
              "        if (!dataTable) return;\n",
              "\n",
              "        const docLinkHtml = 'Like what you see? Visit the ' +\n",
              "          '<a target=\"_blank\" href=https://colab.research.google.com/notebooks/data_table.ipynb>data table notebook</a>'\n",
              "          + ' to learn more about interactive tables.';\n",
              "        element.innerHTML = '';\n",
              "        dataTable['output_type'] = 'display_data';\n",
              "        await google.colab.output.renderOutput(dataTable, element);\n",
              "        const docLink = document.createElement('div');\n",
              "        docLink.innerHTML = docLinkHtml;\n",
              "        element.appendChild(docLink);\n",
              "      }\n",
              "    </script>\n",
              "  </div>\n",
              "\n",
              "\n",
              "  <div id=\"id_72b34898-4257-4fac-a689-d296d1c25cfa\">\n",
              "    <style>\n",
              "      .colab-df-generate {\n",
              "        background-color: #E8F0FE;\n",
              "        border: none;\n",
              "        border-radius: 50%;\n",
              "        cursor: pointer;\n",
              "        display: none;\n",
              "        fill: #1967D2;\n",
              "        height: 32px;\n",
              "        padding: 0 0 0 0;\n",
              "        width: 32px;\n",
              "      }\n",
              "\n",
              "      .colab-df-generate:hover {\n",
              "        background-color: #E2EBFA;\n",
              "        box-shadow: 0px 1px 2px rgba(60, 64, 67, 0.3), 0px 1px 3px 1px rgba(60, 64, 67, 0.15);\n",
              "        fill: #174EA6;\n",
              "      }\n",
              "\n",
              "      [theme=dark] .colab-df-generate {\n",
              "        background-color: #3B4455;\n",
              "        fill: #D2E3FC;\n",
              "      }\n",
              "\n",
              "      [theme=dark] .colab-df-generate:hover {\n",
              "        background-color: #434B5C;\n",
              "        box-shadow: 0px 1px 3px 1px rgba(0, 0, 0, 0.15);\n",
              "        filter: drop-shadow(0px 1px 2px rgba(0, 0, 0, 0.3));\n",
              "        fill: #FFFFFF;\n",
              "      }\n",
              "    </style>\n",
              "    <button class=\"colab-df-generate\" onclick=\"generateWithVariable('area_history')\"\n",
              "            title=\"Generate code using this dataframe.\"\n",
              "            style=\"display:none;\">\n",
              "\n",
              "  <svg xmlns=\"http://www.w3.org/2000/svg\" height=\"24px\"viewBox=\"0 0 24 24\"\n",
              "       width=\"24px\">\n",
              "    <path d=\"M7,19H8.4L18.45,9,17,7.55,7,17.6ZM5,21V16.75L18.45,3.32a2,2,0,0,1,2.83,0l1.4,1.43a1.91,1.91,0,0,1,.58,1.4,1.91,1.91,0,0,1-.58,1.4L9.25,21ZM18.45,9,17,7.55Zm-12,3A5.31,5.31,0,0,0,4.9,8.1,5.31,5.31,0,0,0,1,6.5,5.31,5.31,0,0,0,4.9,4.9,5.31,5.31,0,0,0,6.5,1,5.31,5.31,0,0,0,8.1,4.9,5.31,5.31,0,0,0,12,6.5,5.46,5.46,0,0,0,6.5,12Z\"/>\n",
              "  </svg>\n",
              "    </button>\n",
              "    <script>\n",
              "      (() => {\n",
              "      const buttonEl =\n",
              "        document.querySelector('#id_72b34898-4257-4fac-a689-d296d1c25cfa button.colab-df-generate');\n",
              "      buttonEl.style.display =\n",
              "        google.colab.kernel.accessAllowed ? 'block' : 'none';\n",
              "\n",
              "      buttonEl.onclick = () => {\n",
              "        google.colab.notebook.generateWithVariable('area_history');\n",
              "      }\n",
              "      })();\n",
              "    </script>\n",
              "  </div>\n",
              "\n",
              "    </div>\n",
              "  </div>\n"
            ],
            "application/vnd.google.colaboratory.intrinsic+json": {
              "type": "dataframe",
              "variable_name": "area_history",
              "summary": "{\n  \"name\": \"area_history\",\n  \"rows\": 1,\n  \"fields\": [\n    {\n      \"column\": \"Year\",\n      \"properties\": {\n        \"dtype\": \"number\",\n        \"std\": null,\n        \"min\": 2022,\n        \"max\": 2022,\n        \"num_unique_values\": 1,\n        \"samples\": [\n          2022\n        ],\n        \"semantic_type\": \"\",\n        \"description\": \"\"\n      }\n    },\n    {\n      \"column\": \"Town/City\",\n      \"properties\": {\n        \"dtype\": \"string\",\n        \"num_unique_values\": 1,\n        \"samples\": [\n          \"LONDON\"\n        ],\n        \"semantic_type\": \"\",\n        \"description\": \"\"\n      }\n    },\n    {\n      \"column\": \"Postcode\",\n      \"properties\": {\n        \"dtype\": \"string\",\n        \"num_unique_values\": 1,\n        \"samples\": [\n          \"E6 5PJ\"\n        ],\n        \"semantic_type\": \"\",\n        \"description\": \"\"\n      }\n    },\n    {\n      \"column\": \"Price\",\n      \"properties\": {\n        \"dtype\": \"number\",\n        \"std\": null,\n        \"min\": 480000.0,\n        \"max\": 480000.0,\n        \"num_unique_values\": 1,\n        \"samples\": [\n          480000.0\n        ],\n        \"semantic_type\": \"\",\n        \"description\": \"\"\n      }\n    },\n    {\n      \"column\": \"n_sales\",\n      \"properties\": {\n        \"dtype\": \"number\",\n        \"std\": null,\n        \"min\": 1,\n        \"max\": 1,\n        \"num_unique_values\": 1,\n        \"samples\": [\n          1\n        ],\n        \"semantic_type\": \"\",\n        \"description\": \"\"\n      }\n    },\n    {\n      \"column\": \"Postcode_Code\",\n      \"properties\": {\n        \"dtype\": \"number\",\n        \"std\": null,\n        \"min\": 319094,\n        \"max\": 319094,\n        \"num_unique_values\": 1,\n        \"samples\": [\n          319094\n        ],\n        \"semantic_type\": \"\",\n        \"description\": \"\"\n      }\n    },\n    {\n      \"column\": \"Cluster\",\n      \"properties\": {\n        \"dtype\": \"int32\",\n        \"num_unique_values\": 1,\n        \"samples\": [\n          3\n        ],\n        \"semantic_type\": \"\",\n        \"description\": \"\"\n      }\n    }\n  ]\n}"
            }
          },
          "metadata": {},
          "execution_count": 28
        }
      ],
      "source": [
        "area_history"
      ]
    },
    {
      "cell_type": "code",
      "execution_count": null,
      "metadata": {
        "id": "Rn2McH9Nh88c"
      },
      "outputs": [],
      "source": []
    },
    {
      "cell_type": "code",
      "execution_count": null,
      "metadata": {
        "id": "EFebEXpch8_F"
      },
      "outputs": [],
      "source": []
    },
    {
      "cell_type": "code",
      "execution_count": null,
      "metadata": {
        "id": "cCD4RRith9Bs"
      },
      "outputs": [],
      "source": []
    },
    {
      "cell_type": "code",
      "execution_count": null,
      "metadata": {
        "id": "kNfBiUNoh9EJ"
      },
      "outputs": [],
      "source": []
    },
    {
      "cell_type": "markdown",
      "metadata": {
        "id": "8F5zUhK2iAEn"
      },
      "source": [
        "#Most Desired Place to Live\n",
        "Based on cumulative number of sales over time."
      ]
    },
    {
      "cell_type": "code",
      "execution_count": null,
      "metadata": {
        "id": "7sNyRsaWh9Gq",
        "colab": {
          "base_uri": "https://localhost:8080/"
        },
        "outputId": "d9ead8c8-96fe-43a7-cbbf-ef87f5306531"
      },
      "outputs": [
        {
          "output_type": "stream",
          "name": "stdout",
          "text": [
            "Top 10 most desired postcodes:\n",
            "         Postcode  n_sales\n",
            "533765   LU1 5FT      295\n",
            "557451    M5 3WH      288\n",
            "462160    L3 8HA      257\n",
            "147015  CF10 3FH      251\n",
            "954493  SW11 7AY      235\n",
            "467905    L5 3AA      213\n",
            "538310    M1 5GB      207\n",
            "313108   E14 9GU      204\n",
            "935370   SS2 6EB      203\n",
            "778204  RG21 7AA      197\n"
          ]
        }
      ],
      "source": [
        "# Group by Postcode and sum all sales\n",
        "most_desired = data.groupby('Postcode')['n_sales'].sum().reset_index()\n",
        "most_desired = most_desired.sort_values(by='n_sales', ascending=False)\n",
        "\n",
        "print(\"Top 10 most desired postcodes:\\n\", most_desired.head(10))\n"
      ]
    },
    {
      "cell_type": "code",
      "execution_count": null,
      "metadata": {
        "id": "xEj1RzYciMfA"
      },
      "outputs": [],
      "source": []
    },
    {
      "cell_type": "markdown",
      "metadata": {
        "id": "JmImGJYjiRiN"
      },
      "source": [
        "#Most Prestigious Place to Live\n",
        "Based on average price over time (not just one expensive sale)."
      ]
    },
    {
      "cell_type": "code",
      "execution_count": null,
      "metadata": {
        "id": "m2H-d9p-iMhr",
        "colab": {
          "base_uri": "https://localhost:8080/"
        },
        "outputId": "7557e578-32a1-4264-ca0c-33d41220ae6d"
      },
      "outputs": [
        {
          "output_type": "stream",
          "name": "stdout",
          "text": [
            "Top 10 most prestigious postcodes:\n",
            "          Postcode     Price\n",
            "965723    SW7 2TE 9,900,000\n",
            "965772    SW7 3LZ 9,800,000\n",
            "372469   GU25 4NL 9,750,000\n",
            "1057589    W9 1AA 9,750,000\n",
            "687777    NW8 9BQ 9,730,000\n",
            "913029   SO24 9TW 9,600,998\n",
            "687464    NW8 6AP 9,500,000\n",
            "960999   SW1P 3RX 9,500,000\n",
            "1050573   W11 2LE 9,500,000\n",
            "687822    NW8 9JP 9,500,000\n"
          ]
        }
      ],
      "source": [
        "# Group by Postcode and take average price\n",
        "prestigious = data.groupby('Postcode')['Price'].mean().reset_index()\n",
        "prestigious = prestigious.sort_values(by='Price', ascending=False)\n",
        "\n",
        "print(\"Top 10 most prestigious postcodes:\\n\", prestigious.head(10))\n"
      ]
    },
    {
      "cell_type": "code",
      "execution_count": null,
      "metadata": {
        "id": "UgHg-GKzjHLD"
      },
      "outputs": [],
      "source": []
    },
    {
      "cell_type": "code",
      "execution_count": null,
      "metadata": {
        "id": "inzEWQ1IjHND",
        "colab": {
          "base_uri": "https://localhost:8080/",
          "height": 89
        },
        "outputId": "402e3e84-abcf-4132-e261-6771d3f25deb"
      },
      "outputs": [
        {
          "output_type": "execute_result",
          "data": {
            "text/plain": [
              "Empty DataFrame\n",
              "Columns: [Transaction unique identifier, Price, Date of Transfer, Postcode, Property Type, Old/New, Duration, PAON, Street, Town/City, District, County, PPD Category Type, Record Status, Year, Postcode_Area]\n",
              "Index: []"
            ],
            "text/html": [
              "\n",
              "  <div id=\"df-a27a2ed7-dcc2-4f42-b050-7b7462c9582b\" class=\"colab-df-container\">\n",
              "    <div>\n",
              "<style scoped>\n",
              "    .dataframe tbody tr th:only-of-type {\n",
              "        vertical-align: middle;\n",
              "    }\n",
              "\n",
              "    .dataframe tbody tr th {\n",
              "        vertical-align: top;\n",
              "    }\n",
              "\n",
              "    .dataframe thead th {\n",
              "        text-align: right;\n",
              "    }\n",
              "</style>\n",
              "<table border=\"1\" class=\"dataframe\">\n",
              "  <thead>\n",
              "    <tr style=\"text-align: right;\">\n",
              "      <th></th>\n",
              "      <th>Transaction unique identifier</th>\n",
              "      <th>Price</th>\n",
              "      <th>Date of Transfer</th>\n",
              "      <th>Postcode</th>\n",
              "      <th>Property Type</th>\n",
              "      <th>Old/New</th>\n",
              "      <th>Duration</th>\n",
              "      <th>PAON</th>\n",
              "      <th>Street</th>\n",
              "      <th>Town/City</th>\n",
              "      <th>District</th>\n",
              "      <th>County</th>\n",
              "      <th>PPD Category Type</th>\n",
              "      <th>Record Status</th>\n",
              "      <th>Year</th>\n",
              "      <th>Postcode_Area</th>\n",
              "    </tr>\n",
              "  </thead>\n",
              "  <tbody>\n",
              "  </tbody>\n",
              "</table>\n",
              "</div>\n",
              "    <div class=\"colab-df-buttons\">\n",
              "\n",
              "  <div class=\"colab-df-container\">\n",
              "    <button class=\"colab-df-convert\" onclick=\"convertToInteractive('df-a27a2ed7-dcc2-4f42-b050-7b7462c9582b')\"\n",
              "            title=\"Convert this dataframe to an interactive table.\"\n",
              "            style=\"display:none;\">\n",
              "\n",
              "  <svg xmlns=\"http://www.w3.org/2000/svg\" height=\"24px\" viewBox=\"0 -960 960 960\">\n",
              "    <path d=\"M120-120v-720h720v720H120Zm60-500h600v-160H180v160Zm220 220h160v-160H400v160Zm0 220h160v-160H400v160ZM180-400h160v-160H180v160Zm440 0h160v-160H620v160ZM180-180h160v-160H180v160Zm440 0h160v-160H620v160Z\"/>\n",
              "  </svg>\n",
              "    </button>\n",
              "\n",
              "  <style>\n",
              "    .colab-df-container {\n",
              "      display:flex;\n",
              "      gap: 12px;\n",
              "    }\n",
              "\n",
              "    .colab-df-convert {\n",
              "      background-color: #E8F0FE;\n",
              "      border: none;\n",
              "      border-radius: 50%;\n",
              "      cursor: pointer;\n",
              "      display: none;\n",
              "      fill: #1967D2;\n",
              "      height: 32px;\n",
              "      padding: 0 0 0 0;\n",
              "      width: 32px;\n",
              "    }\n",
              "\n",
              "    .colab-df-convert:hover {\n",
              "      background-color: #E2EBFA;\n",
              "      box-shadow: 0px 1px 2px rgba(60, 64, 67, 0.3), 0px 1px 3px 1px rgba(60, 64, 67, 0.15);\n",
              "      fill: #174EA6;\n",
              "    }\n",
              "\n",
              "    .colab-df-buttons div {\n",
              "      margin-bottom: 4px;\n",
              "    }\n",
              "\n",
              "    [theme=dark] .colab-df-convert {\n",
              "      background-color: #3B4455;\n",
              "      fill: #D2E3FC;\n",
              "    }\n",
              "\n",
              "    [theme=dark] .colab-df-convert:hover {\n",
              "      background-color: #434B5C;\n",
              "      box-shadow: 0px 1px 3px 1px rgba(0, 0, 0, 0.15);\n",
              "      filter: drop-shadow(0px 1px 2px rgba(0, 0, 0, 0.3));\n",
              "      fill: #FFFFFF;\n",
              "    }\n",
              "  </style>\n",
              "\n",
              "    <script>\n",
              "      const buttonEl =\n",
              "        document.querySelector('#df-a27a2ed7-dcc2-4f42-b050-7b7462c9582b button.colab-df-convert');\n",
              "      buttonEl.style.display =\n",
              "        google.colab.kernel.accessAllowed ? 'block' : 'none';\n",
              "\n",
              "      async function convertToInteractive(key) {\n",
              "        const element = document.querySelector('#df-a27a2ed7-dcc2-4f42-b050-7b7462c9582b');\n",
              "        const dataTable =\n",
              "          await google.colab.kernel.invokeFunction('convertToInteractive',\n",
              "                                                    [key], {});\n",
              "        if (!dataTable) return;\n",
              "\n",
              "        const docLinkHtml = 'Like what you see? Visit the ' +\n",
              "          '<a target=\"_blank\" href=https://colab.research.google.com/notebooks/data_table.ipynb>data table notebook</a>'\n",
              "          + ' to learn more about interactive tables.';\n",
              "        element.innerHTML = '';\n",
              "        dataTable['output_type'] = 'display_data';\n",
              "        await google.colab.output.renderOutput(dataTable, element);\n",
              "        const docLink = document.createElement('div');\n",
              "        docLink.innerHTML = docLinkHtml;\n",
              "        element.appendChild(docLink);\n",
              "      }\n",
              "    </script>\n",
              "  </div>\n",
              "\n",
              "\n",
              "  <div id=\"id_320040b6-17f3-46ed-b76c-ffb51735e9ae\">\n",
              "    <style>\n",
              "      .colab-df-generate {\n",
              "        background-color: #E8F0FE;\n",
              "        border: none;\n",
              "        border-radius: 50%;\n",
              "        cursor: pointer;\n",
              "        display: none;\n",
              "        fill: #1967D2;\n",
              "        height: 32px;\n",
              "        padding: 0 0 0 0;\n",
              "        width: 32px;\n",
              "      }\n",
              "\n",
              "      .colab-df-generate:hover {\n",
              "        background-color: #E2EBFA;\n",
              "        box-shadow: 0px 1px 2px rgba(60, 64, 67, 0.3), 0px 1px 3px 1px rgba(60, 64, 67, 0.15);\n",
              "        fill: #174EA6;\n",
              "      }\n",
              "\n",
              "      [theme=dark] .colab-df-generate {\n",
              "        background-color: #3B4455;\n",
              "        fill: #D2E3FC;\n",
              "      }\n",
              "\n",
              "      [theme=dark] .colab-df-generate:hover {\n",
              "        background-color: #434B5C;\n",
              "        box-shadow: 0px 1px 3px 1px rgba(0, 0, 0, 0.15);\n",
              "        filter: drop-shadow(0px 1px 2px rgba(0, 0, 0, 0.3));\n",
              "        fill: #FFFFFF;\n",
              "      }\n",
              "    </style>\n",
              "    <button class=\"colab-df-generate\" onclick=\"generateWithVariable('prestigious_search')\"\n",
              "            title=\"Generate code using this dataframe.\"\n",
              "            style=\"display:none;\">\n",
              "\n",
              "  <svg xmlns=\"http://www.w3.org/2000/svg\" height=\"24px\"viewBox=\"0 0 24 24\"\n",
              "       width=\"24px\">\n",
              "    <path d=\"M7,19H8.4L18.45,9,17,7.55,7,17.6ZM5,21V16.75L18.45,3.32a2,2,0,0,1,2.83,0l1.4,1.43a1.91,1.91,0,0,1,.58,1.4,1.91,1.91,0,0,1-.58,1.4L9.25,21ZM18.45,9,17,7.55Zm-12,3A5.31,5.31,0,0,0,4.9,8.1,5.31,5.31,0,0,0,1,6.5,5.31,5.31,0,0,0,4.9,4.9,5.31,5.31,0,0,0,6.5,1,5.31,5.31,0,0,0,8.1,4.9,5.31,5.31,0,0,0,12,6.5,5.46,5.46,0,0,0,6.5,12Z\"/>\n",
              "  </svg>\n",
              "    </button>\n",
              "    <script>\n",
              "      (() => {\n",
              "      const buttonEl =\n",
              "        document.querySelector('#id_320040b6-17f3-46ed-b76c-ffb51735e9ae button.colab-df-generate');\n",
              "      buttonEl.style.display =\n",
              "        google.colab.kernel.accessAllowed ? 'block' : 'none';\n",
              "\n",
              "      buttonEl.onclick = () => {\n",
              "        google.colab.notebook.generateWithVariable('prestigious_search');\n",
              "      }\n",
              "      })();\n",
              "    </script>\n",
              "  </div>\n",
              "\n",
              "    </div>\n",
              "  </div>\n"
            ],
            "application/vnd.google.colaboratory.intrinsic+json": {
              "type": "dataframe",
              "variable_name": "prestigious_search",
              "repr_error": "Out of range float values are not JSON compliant: nan"
            }
          },
          "metadata": {},
          "execution_count": 31
        }
      ],
      "source": [
        "prestigious_search = full_data[full_data[\"Postcode\"] == \"SE1 9AN\"]\n",
        "prestigious_search"
      ]
    },
    {
      "cell_type": "code",
      "execution_count": null,
      "metadata": {
        "id": "mMr8JbIxmcaT"
      },
      "outputs": [],
      "source": []
    },
    {
      "cell_type": "code",
      "execution_count": null,
      "metadata": {
        "id": "PaaA_hIBmccw"
      },
      "outputs": [],
      "source": []
    },
    {
      "cell_type": "markdown",
      "metadata": {
        "id": "mW7lpomfmes_"
      },
      "source": [
        "#Areas With Highest Price Growth\n",
        "Postcodes where price increased the most between first and last year (with at least 2 sales in each year)."
      ]
    },
    {
      "cell_type": "code",
      "execution_count": null,
      "metadata": {
        "id": "i9pEoMJkmcfN",
        "colab": {
          "base_uri": "https://localhost:8080/"
        },
        "outputId": "8ef7e036-12f7-42d1-8e35-ca0070e1c7b2"
      },
      "outputs": [
        {
          "output_type": "stream",
          "name": "stdout",
          "text": [
            "Top 10 growing postcodes:\n",
            "         Postcode  Price_start  Price_end  price_growth\n",
            "650865    W9 1AN    1,550,500  9,560,500     8,010,000\n",
            "650658    W8 4SA    3,008,333  9,075,000     6,066,667\n",
            "279802   KT2 7DY    3,450,000  9,500,000     6,050,000\n",
            "592078  SW13 9RT    3,235,000  9,276,000     6,041,000\n",
            "597473   SW3 4XA    1,625,000  7,437,500     5,812,500\n",
            "650829    W8 7NA      515,000  6,188,333     5,673,333\n",
            "425704   NW8 0PL      902,500  6,575,000     5,672,500\n",
            "592026  SW13 9EX      525,000  6,050,000     5,525,000\n",
            "612777  TN11 8HY    1,237,500  6,750,000     5,512,500\n",
            "650655    W8 4RR    1,312,500  6,816,667     5,504,167\n"
          ]
        }
      ],
      "source": [
        "# Ensure we only use postcode-years with at least 2 sales\n",
        "multi_sales = data[data['n_sales'] >= 2]\n",
        "\n",
        "# Find min and max year per postcode\n",
        "yearly_price = multi_sales.groupby(['Postcode', 'Year'])['Price'].mean().reset_index()\n",
        "\n",
        "# Compute first and last price per postcode\n",
        "first_last = yearly_price.groupby('Postcode').agg(\n",
        "    first_year=('Year', 'min'),\n",
        "    last_year=('Year', 'max')\n",
        ").reset_index()\n",
        "\n",
        "# Merge back to get actual prices\n",
        "first_price = yearly_price.merge(first_last[['Postcode', 'first_year']],\n",
        "                                 left_on=['Postcode', 'Year'],\n",
        "                                 right_on=['Postcode', 'first_year'])\n",
        "\n",
        "last_price = yearly_price.merge(first_last[['Postcode', 'last_year']],\n",
        "                                left_on=['Postcode', 'Year'],\n",
        "                                right_on=['Postcode', 'last_year'])\n",
        "\n",
        "# Combine first and last prices\n",
        "growth = first_price[['Postcode', 'Price']].merge(\n",
        "    last_price[['Postcode', 'Price']], on='Postcode', suffixes=('_start', '_end')\n",
        ")\n",
        "growth['price_growth'] = growth['Price_end'] - growth['Price_start']\n",
        "growth = growth.sort_values(by='price_growth', ascending=False)\n",
        "\n",
        "print(\"Top 10 growing postcodes:\\n\", growth.head(10))\n"
      ]
    }
  ],
  "metadata": {
    "colab": {
      "provenance": [],
      "authorship_tag": "ABX9TyPlOuJuA/kd7s3N2n9RnukW",
      "include_colab_link": true
    },
    "kernelspec": {
      "display_name": "Python 3",
      "name": "python3"
    },
    "language_info": {
      "name": "python"
    }
  },
  "nbformat": 4,
  "nbformat_minor": 0
}